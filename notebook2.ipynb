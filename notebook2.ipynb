{
 "cells": [
  {
   "cell_type": "markdown",
   "metadata": {},
   "source": [
    "# Проект: Принятие решений в бизнесе"
   ]
  },
  {
   "cell_type": "markdown",
   "metadata": {},
   "source": [
    "# Описание проекта\n",
    "\n",
    "Имеется один крупный интернет-магазин. Отделом маркетинга подготовили список гипотез для увеличения выручки.\n",
    "\n",
    "**Цель проекта:** Для начала проаназировать данные А/В-теста, принять решение о его завершении или продолжении, подвести итоги тестирования.\n",
    "\n",
    "**Задачи проекта:** Приоритизировать гипотезы, запустить A/B-тест и проанализировать результаты. \n",
    "\n",
    "**План работ:** Приоритизация гипотез, проведение А/В-теста, подведение итогов\n"
   ]
  },
  {
   "cell_type": "markdown",
   "metadata": {},
   "source": [
    "**Данные для первой части**\n",
    "\n",
    "Файл /datasets/hypothesis.csv.\n",
    "\n",
    "- Hypothesis — краткое описание гипотезы;\n",
    "- Reach — охват пользователей по 10-балльной шкале;\n",
    "- Impact — влияние на пользователей по 10-балльной шкале;\n",
    "- Confidence — уверенность в гипотезе по 10-балльной шкале;\n",
    "- Efforts — затраты ресурсов на проверку гипотезы по 10-балльной шкале. Чем больше значение Efforts, тем дороже проверка гипотезы."
   ]
  },
  {
   "cell_type": "markdown",
   "metadata": {},
   "source": [
    "**Данные для второй части**\n",
    "\n",
    "Файл /datasets/orders.csv.\n",
    "\n",
    "- transactionId — идентификатор заказа;\n",
    "- visitorId — идентификатор пользователя, совершившего заказ;\n",
    "- date — дата, когда был совершён заказ;\n",
    "- revenue — выручка заказа;\n",
    "- group — группа A/B-теста, в которую попал заказ.\n",
    "\n",
    "Файл /datasets/visitors.csv. \n",
    "\n",
    "- date — дата;\n",
    "- group — группа A/B-теста;\n",
    "- visitors — количество пользователей в указанную дату в указанной группе A/B-теста"
   ]
  },
  {
   "cell_type": "markdown",
   "metadata": {
    "toc": true
   },
   "source": [
    "<h1>Оглавление<span class=\"tocSkip\"></span></h1>\n",
    "<div class=\"toc\"><ul class=\"toc-item\"><li><span><a href=\"#Загрузка-данных\" data-toc-modified-id=\"Загрузка-данных-1\"><span class=\"toc-item-num\">1&nbsp;&nbsp;</span>Загрузка данных</a></span></li><li><span><a href=\"#Предобработка-данных\" data-toc-modified-id=\"Предобработка-данных-2\"><span class=\"toc-item-num\">2&nbsp;&nbsp;</span>Предобработка данных</a></span></li><li><span><a href=\"#Приоритизация-гипотез\" data-toc-modified-id=\"Приоритизация-гипотез-3\"><span class=\"toc-item-num\">3&nbsp;&nbsp;</span>Приоритизация гипотез</a></span></li><li><span><a href=\"#Анализ-A/B-теста\" data-toc-modified-id=\"Анализ-A/B-теста-4\"><span class=\"toc-item-num\">4&nbsp;&nbsp;</span>Анализ A/B-теста</a></span><ul class=\"toc-item\"><li><span><a href=\"#Построим-график-кумулятивной-выручки-по-группам.-Сделаем-выводы-и-предположения.\" data-toc-modified-id=\"Построим-график-кумулятивной-выручки-по-группам.-Сделаем-выводы-и-предположения.-4.1\"><span class=\"toc-item-num\">4.1&nbsp;&nbsp;</span>Построим график кумулятивной выручки по группам. Сделаем выводы и предположения.</a></span></li><li><span><a href=\"#Построим-график-кумулятивного-среднего-чека-по-группам.-Сделаем-выводы-и-предположения.\" data-toc-modified-id=\"Построим-график-кумулятивного-среднего-чека-по-группам.-Сделаем-выводы-и-предположения.-4.2\"><span class=\"toc-item-num\">4.2&nbsp;&nbsp;</span>Построим график кумулятивного среднего чека по группам. Сделаем выводы и предположения.</a></span></li><li><span><a href=\"#Построим-график-относительного-изменения-кумулятивного-среднего-чека-группы-B-к-группе-A.-Сделаем-выводы-и-предположения.\" data-toc-modified-id=\"Построим-график-относительного-изменения-кумулятивного-среднего-чека-группы-B-к-группе-A.-Сделаем-выводы-и-предположения.-4.3\"><span class=\"toc-item-num\">4.3&nbsp;&nbsp;</span>Построим график относительного изменения кумулятивного среднего чека группы B к группе A. Сделаем выводы и предположения.</a></span></li><li><span><a href=\"#Построим-график-кумулятивного-среднего-количества-заказов-на-посетителя-по-группам.-Сделаем-выводы-и-предположения.\" data-toc-modified-id=\"Построим-график-кумулятивного-среднего-количества-заказов-на-посетителя-по-группам.-Сделаем-выводы-и-предположения.-4.4\"><span class=\"toc-item-num\">4.4&nbsp;&nbsp;</span>Построим график кумулятивного среднего количества заказов на посетителя по группам. Сделаем выводы и предположения.</a></span></li><li><span><a href=\"#Построим-график-относительного-изменения-кумулятивного-среднего-количества-заказов-на-посетителя-группы-B-к-группе-A.-Сделаем-выводы-и-предположения.\" data-toc-modified-id=\"Построим-график-относительного-изменения-кумулятивного-среднего-количества-заказов-на-посетителя-группы-B-к-группе-A.-Сделаем-выводы-и-предположения.-4.5\"><span class=\"toc-item-num\">4.5&nbsp;&nbsp;</span>Построим график относительного изменения кумулятивного среднего количества заказов на посетителя группы B к группе A. Сделаем выводы и предположения.</a></span></li><li><span><a href=\"#Построим-точечный-график-количества-заказов-по-пользователям.-Сделаем-выводы-и-предположения.\" data-toc-modified-id=\"Построим-точечный-график-количества-заказов-по-пользователям.-Сделаем-выводы-и-предположения.-4.6\"><span class=\"toc-item-num\">4.6&nbsp;&nbsp;</span>Построим точечный график количества заказов по пользователям. Сделаем выводы и предположения.</a></span></li><li><span><a href=\"#Посчитаем-95-й-и-99-й-перцентили-количества-заказов-на-пользователя.-Выберем-границу-для-определения-аномальных-пользователей.\" data-toc-modified-id=\"Посчитаем-95-й-и-99-й-перцентили-количества-заказов-на-пользователя.-Выберем-границу-для-определения-аномальных-пользователей.-4.7\"><span class=\"toc-item-num\">4.7&nbsp;&nbsp;</span>Посчитаем 95-й и 99-й перцентили количества заказов на пользователя. Выберем границу для определения аномальных пользователей.</a></span></li><li><span><a href=\"#Построим-точечный-график-стоимостей-заказов.-Сделаем-выводы-и-предположения.\" data-toc-modified-id=\"Построим-точечный-график-стоимостей-заказов.-Сделаем-выводы-и-предположения.-4.8\"><span class=\"toc-item-num\">4.8&nbsp;&nbsp;</span>Построим точечный график стоимостей заказов. Сделаем выводы и предположения.</a></span></li><li><span><a href=\"#Посчитаем-95-й-и-99-й-перцентили-стоимости-заказов.-Выберем-границу-для-определения-аномальных-заказов.\" data-toc-modified-id=\"Посчитаем-95-й-и-99-й-перцентили-стоимости-заказов.-Выберем-границу-для-определения-аномальных-заказов.-4.9\"><span class=\"toc-item-num\">4.9&nbsp;&nbsp;</span>Посчитаем 95-й и 99-й перцентили стоимости заказов. Выберем границу для определения аномальных заказов.</a></span></li><li><span><a href=\"#Посчитаем-статистическую-значимость-различий-в-среднем-количестве-заказов-на-посетителя-между-группами-по-«сырым»-данным.-Сделаем-выводы-и-предположения.\" data-toc-modified-id=\"Посчитаем-статистическую-значимость-различий-в-среднем-количестве-заказов-на-посетителя-между-группами-по-«сырым»-данным.-Сделаем-выводы-и-предположения.-4.10\"><span class=\"toc-item-num\">4.10&nbsp;&nbsp;</span>Посчитаем статистическую значимость различий в среднем количестве заказов на посетителя между группами по «сырым» данным. Сделаем выводы и предположения.</a></span></li><li><span><a href=\"#Посчитаем-статистическую-значимость-различий-в-среднем-чеке-заказа-между-группами-по-«сырым»-данным.-Сделаем-выводы-и-предположения.\" data-toc-modified-id=\"Посчитаем-статистическую-значимость-различий-в-среднем-чеке-заказа-между-группами-по-«сырым»-данным.-Сделаем-выводы-и-предположения.-4.11\"><span class=\"toc-item-num\">4.11&nbsp;&nbsp;</span>Посчитаем статистическую значимость различий в среднем чеке заказа между группами по «сырым» данным. Сделаем выводы и предположения.</a></span></li><li><span><a href=\"#Посчитаем-статистическую-значимость-различий-в-среднем-количестве-заказов-на-посетителя-между-группами-по-«очищенным»-данным.-Сделаем-выводы-и-предположения.\" data-toc-modified-id=\"Посчитаем-статистическую-значимость-различий-в-среднем-количестве-заказов-на-посетителя-между-группами-по-«очищенным»-данным.-Сделаем-выводы-и-предположения.-4.12\"><span class=\"toc-item-num\">4.12&nbsp;&nbsp;</span>Посчитаем статистическую значимость различий в среднем количестве заказов на посетителя между группами по «очищенным» данным. Сделаем выводы и предположения.</a></span></li><li><span><a href=\"#Посчитаем-статистическую-значимость-различий-в-среднем-чеке-заказа-между-группами-по-«очищенным»-данным.-Сделаем-выводы-и-предположения.\" data-toc-modified-id=\"Посчитаем-статистическую-значимость-различий-в-среднем-чеке-заказа-между-группами-по-«очищенным»-данным.-Сделаем-выводы-и-предположения.-4.13\"><span class=\"toc-item-num\">4.13&nbsp;&nbsp;</span>Посчитаем статистическую значимость различий в среднем чеке заказа между группами по «очищенным» данным. Сделаем выводы и предположения.</a></span></li></ul></li><li><span><a href=\"#Вывод-исследования\" data-toc-modified-id=\"Вывод-исследования-5\"><span class=\"toc-item-num\">5&nbsp;&nbsp;</span>Вывод исследования</a></span></li></ul></div>"
   ]
  },
  {
   "cell_type": "markdown",
   "metadata": {},
   "source": [
    "<div class=\"alert alert-success\">\n",
    "  \n",
    "  <b>Комментарий ревьюера</b>\n",
    "    \n",
    "  ✔️ Хорошо, что есть описание и цели проекта.\n",
    "</div>"
   ]
  },
  {
   "cell_type": "markdown",
   "metadata": {},
   "source": [
    "### Загрузка данных"
   ]
  },
  {
   "cell_type": "markdown",
   "metadata": {},
   "source": [
    "Импортируем необходимые для работы библиотеки"
   ]
  },
  {
   "cell_type": "code",
   "execution_count": 1,
   "metadata": {},
   "outputs": [],
   "source": [
    "import pandas as pd\n",
    "import matplotlib.pyplot as plt\n",
    "import numpy as np\n",
    "import seaborn as sns\n",
    "import scipy.stats as stats\n",
    "from scipy import stats as st"
   ]
  },
  {
   "cell_type": "markdown",
   "metadata": {},
   "source": [
    "Прочитаем файлы"
   ]
  },
  {
   "cell_type": "code",
   "execution_count": 2,
   "metadata": {},
   "outputs": [],
   "source": [
    "try:\n",
    "    hypothesis = pd.read_csv('/datasets/hypothesis.csv')\n",
    "    orders = pd.read_csv('/datasets/orders.csv')\n",
    "    visitors = pd.read_csv('/datasets/visitors.csv')\n",
    "except:\n",
    "    hypothesis = pd.read_csv('https://code.s3.yandex.net/datasets/hypothesis.csv')\n",
    "    orders = pd.read_csv('https://code.s3.yandex.net/datasets/orders.csv')\n",
    "    visitors = pd.read_csv('https://code.s3.yandex.net/datasets/visitors.csv')"
   ]
  },
  {
   "cell_type": "markdown",
   "metadata": {},
   "source": [
    "Проверим открытие таблицы hypothesis"
   ]
  },
  {
   "cell_type": "code",
   "execution_count": 3,
   "metadata": {},
   "outputs": [],
   "source": [
    "pd.options.display.max_colwidth = 400"
   ]
  },
  {
   "cell_type": "code",
   "execution_count": 4,
   "metadata": {},
   "outputs": [
    {
     "data": {
      "text/html": [
       "<div>\n",
       "<style scoped>\n",
       "    .dataframe tbody tr th:only-of-type {\n",
       "        vertical-align: middle;\n",
       "    }\n",
       "\n",
       "    .dataframe tbody tr th {\n",
       "        vertical-align: top;\n",
       "    }\n",
       "\n",
       "    .dataframe thead th {\n",
       "        text-align: right;\n",
       "    }\n",
       "</style>\n",
       "<table border=\"1\" class=\"dataframe\">\n",
       "  <thead>\n",
       "    <tr style=\"text-align: right;\">\n",
       "      <th></th>\n",
       "      <th>Hypothesis</th>\n",
       "      <th>Reach</th>\n",
       "      <th>Impact</th>\n",
       "      <th>Confidence</th>\n",
       "      <th>Efforts</th>\n",
       "    </tr>\n",
       "  </thead>\n",
       "  <tbody>\n",
       "    <tr>\n",
       "      <th>0</th>\n",
       "      <td>Добавить два новых канала привлечения трафика, что позволит привлекать на 30% больше пользователей</td>\n",
       "      <td>3</td>\n",
       "      <td>10</td>\n",
       "      <td>8</td>\n",
       "      <td>6</td>\n",
       "    </tr>\n",
       "    <tr>\n",
       "      <th>1</th>\n",
       "      <td>Запустить собственную службу доставки, что сократит срок доставки заказов</td>\n",
       "      <td>2</td>\n",
       "      <td>5</td>\n",
       "      <td>4</td>\n",
       "      <td>10</td>\n",
       "    </tr>\n",
       "    <tr>\n",
       "      <th>2</th>\n",
       "      <td>Добавить блоки рекомендаций товаров на сайт интернет магазина, чтобы повысить конверсию и средний чек заказа</td>\n",
       "      <td>8</td>\n",
       "      <td>3</td>\n",
       "      <td>7</td>\n",
       "      <td>3</td>\n",
       "    </tr>\n",
       "    <tr>\n",
       "      <th>3</th>\n",
       "      <td>Изменить структура категорий, что увеличит конверсию, т.к. пользователи быстрее найдут нужный товар</td>\n",
       "      <td>8</td>\n",
       "      <td>3</td>\n",
       "      <td>3</td>\n",
       "      <td>8</td>\n",
       "    </tr>\n",
       "    <tr>\n",
       "      <th>4</th>\n",
       "      <td>Изменить цвет фона главной страницы, чтобы увеличить вовлеченность пользователей</td>\n",
       "      <td>3</td>\n",
       "      <td>1</td>\n",
       "      <td>1</td>\n",
       "      <td>1</td>\n",
       "    </tr>\n",
       "    <tr>\n",
       "      <th>5</th>\n",
       "      <td>Добавить страницу отзывов клиентов о магазине, что позволит увеличить количество заказов</td>\n",
       "      <td>3</td>\n",
       "      <td>2</td>\n",
       "      <td>2</td>\n",
       "      <td>3</td>\n",
       "    </tr>\n",
       "    <tr>\n",
       "      <th>6</th>\n",
       "      <td>Показать на главной странице баннеры с актуальными акциями и распродажами, чтобы увеличить конверсию</td>\n",
       "      <td>5</td>\n",
       "      <td>3</td>\n",
       "      <td>8</td>\n",
       "      <td>3</td>\n",
       "    </tr>\n",
       "    <tr>\n",
       "      <th>7</th>\n",
       "      <td>Добавить форму подписки на все основные страницы, чтобы собрать базу клиентов для email-рассылок</td>\n",
       "      <td>10</td>\n",
       "      <td>7</td>\n",
       "      <td>8</td>\n",
       "      <td>5</td>\n",
       "    </tr>\n",
       "    <tr>\n",
       "      <th>8</th>\n",
       "      <td>Запустить акцию, дающую скидку на товар в день рождения</td>\n",
       "      <td>1</td>\n",
       "      <td>9</td>\n",
       "      <td>9</td>\n",
       "      <td>5</td>\n",
       "    </tr>\n",
       "  </tbody>\n",
       "</table>\n",
       "</div>"
      ],
      "text/plain": [
       "                                                                                                     Hypothesis  \\\n",
       "0            Добавить два новых канала привлечения трафика, что позволит привлекать на 30% больше пользователей   \n",
       "1                                     Запустить собственную службу доставки, что сократит срок доставки заказов   \n",
       "2  Добавить блоки рекомендаций товаров на сайт интернет магазина, чтобы повысить конверсию и средний чек заказа   \n",
       "3           Изменить структура категорий, что увеличит конверсию, т.к. пользователи быстрее найдут нужный товар   \n",
       "4                              Изменить цвет фона главной страницы, чтобы увеличить вовлеченность пользователей   \n",
       "5                      Добавить страницу отзывов клиентов о магазине, что позволит увеличить количество заказов   \n",
       "6          Показать на главной странице баннеры с актуальными акциями и распродажами, чтобы увеличить конверсию   \n",
       "7              Добавить форму подписки на все основные страницы, чтобы собрать базу клиентов для email-рассылок   \n",
       "8                                                       Запустить акцию, дающую скидку на товар в день рождения   \n",
       "\n",
       "   Reach  Impact  Confidence  Efforts  \n",
       "0      3      10           8        6  \n",
       "1      2       5           4       10  \n",
       "2      8       3           7        3  \n",
       "3      8       3           3        8  \n",
       "4      3       1           1        1  \n",
       "5      3       2           2        3  \n",
       "6      5       3           8        3  \n",
       "7     10       7           8        5  \n",
       "8      1       9           9        5  "
      ]
     },
     "execution_count": 4,
     "metadata": {},
     "output_type": "execute_result"
    }
   ],
   "source": [
    "hypothesis.head(10)"
   ]
  },
  {
   "cell_type": "markdown",
   "metadata": {},
   "source": [
    "Посмотрим общую информацию таблицы hypothesis"
   ]
  },
  {
   "cell_type": "code",
   "execution_count": 5,
   "metadata": {},
   "outputs": [
    {
     "name": "stdout",
     "output_type": "stream",
     "text": [
      "<class 'pandas.core.frame.DataFrame'>\n",
      "RangeIndex: 9 entries, 0 to 8\n",
      "Data columns (total 5 columns):\n",
      " #   Column      Non-Null Count  Dtype \n",
      "---  ------      --------------  ----- \n",
      " 0   Hypothesis  9 non-null      object\n",
      " 1   Reach       9 non-null      int64 \n",
      " 2   Impact      9 non-null      int64 \n",
      " 3   Confidence  9 non-null      int64 \n",
      " 4   Efforts     9 non-null      int64 \n",
      "dtypes: int64(4), object(1)\n",
      "memory usage: 488.0+ bytes\n"
     ]
    }
   ],
   "source": [
    "hypothesis.info()"
   ]
  },
  {
   "cell_type": "markdown",
   "metadata": {},
   "source": [
    "Проверим открытие таблицы orders"
   ]
  },
  {
   "cell_type": "code",
   "execution_count": 6,
   "metadata": {},
   "outputs": [
    {
     "data": {
      "text/html": [
       "<div>\n",
       "<style scoped>\n",
       "    .dataframe tbody tr th:only-of-type {\n",
       "        vertical-align: middle;\n",
       "    }\n",
       "\n",
       "    .dataframe tbody tr th {\n",
       "        vertical-align: top;\n",
       "    }\n",
       "\n",
       "    .dataframe thead th {\n",
       "        text-align: right;\n",
       "    }\n",
       "</style>\n",
       "<table border=\"1\" class=\"dataframe\">\n",
       "  <thead>\n",
       "    <tr style=\"text-align: right;\">\n",
       "      <th></th>\n",
       "      <th>transactionId</th>\n",
       "      <th>visitorId</th>\n",
       "      <th>date</th>\n",
       "      <th>revenue</th>\n",
       "      <th>group</th>\n",
       "    </tr>\n",
       "  </thead>\n",
       "  <tbody>\n",
       "    <tr>\n",
       "      <th>0</th>\n",
       "      <td>3667963787</td>\n",
       "      <td>3312258926</td>\n",
       "      <td>2019-08-15</td>\n",
       "      <td>1650</td>\n",
       "      <td>B</td>\n",
       "    </tr>\n",
       "    <tr>\n",
       "      <th>1</th>\n",
       "      <td>2804400009</td>\n",
       "      <td>3642806036</td>\n",
       "      <td>2019-08-15</td>\n",
       "      <td>730</td>\n",
       "      <td>B</td>\n",
       "    </tr>\n",
       "    <tr>\n",
       "      <th>2</th>\n",
       "      <td>2961555356</td>\n",
       "      <td>4069496402</td>\n",
       "      <td>2019-08-15</td>\n",
       "      <td>400</td>\n",
       "      <td>A</td>\n",
       "    </tr>\n",
       "    <tr>\n",
       "      <th>3</th>\n",
       "      <td>3797467345</td>\n",
       "      <td>1196621759</td>\n",
       "      <td>2019-08-15</td>\n",
       "      <td>9759</td>\n",
       "      <td>B</td>\n",
       "    </tr>\n",
       "    <tr>\n",
       "      <th>4</th>\n",
       "      <td>2282983706</td>\n",
       "      <td>2322279887</td>\n",
       "      <td>2019-08-15</td>\n",
       "      <td>2308</td>\n",
       "      <td>B</td>\n",
       "    </tr>\n",
       "    <tr>\n",
       "      <th>5</th>\n",
       "      <td>182168103</td>\n",
       "      <td>935554773</td>\n",
       "      <td>2019-08-15</td>\n",
       "      <td>2210</td>\n",
       "      <td>B</td>\n",
       "    </tr>\n",
       "    <tr>\n",
       "      <th>6</th>\n",
       "      <td>398296753</td>\n",
       "      <td>2900797465</td>\n",
       "      <td>2019-08-15</td>\n",
       "      <td>1860</td>\n",
       "      <td>B</td>\n",
       "    </tr>\n",
       "    <tr>\n",
       "      <th>7</th>\n",
       "      <td>2626614568</td>\n",
       "      <td>78758296</td>\n",
       "      <td>2019-08-15</td>\n",
       "      <td>1044</td>\n",
       "      <td>A</td>\n",
       "    </tr>\n",
       "    <tr>\n",
       "      <th>8</th>\n",
       "      <td>1576988021</td>\n",
       "      <td>295230930</td>\n",
       "      <td>2019-08-15</td>\n",
       "      <td>13710</td>\n",
       "      <td>A</td>\n",
       "    </tr>\n",
       "    <tr>\n",
       "      <th>9</th>\n",
       "      <td>1506739906</td>\n",
       "      <td>1882260405</td>\n",
       "      <td>2019-08-15</td>\n",
       "      <td>1855</td>\n",
       "      <td>B</td>\n",
       "    </tr>\n",
       "  </tbody>\n",
       "</table>\n",
       "</div>"
      ],
      "text/plain": [
       "   transactionId   visitorId        date  revenue group\n",
       "0     3667963787  3312258926  2019-08-15     1650     B\n",
       "1     2804400009  3642806036  2019-08-15      730     B\n",
       "2     2961555356  4069496402  2019-08-15      400     A\n",
       "3     3797467345  1196621759  2019-08-15     9759     B\n",
       "4     2282983706  2322279887  2019-08-15     2308     B\n",
       "5      182168103   935554773  2019-08-15     2210     B\n",
       "6      398296753  2900797465  2019-08-15     1860     B\n",
       "7     2626614568    78758296  2019-08-15     1044     A\n",
       "8     1576988021   295230930  2019-08-15    13710     A\n",
       "9     1506739906  1882260405  2019-08-15     1855     B"
      ]
     },
     "execution_count": 6,
     "metadata": {},
     "output_type": "execute_result"
    }
   ],
   "source": [
    "orders.head(10)"
   ]
  },
  {
   "cell_type": "markdown",
   "metadata": {},
   "source": [
    "Посмотрим общую информацию таблицы orders"
   ]
  },
  {
   "cell_type": "code",
   "execution_count": 7,
   "metadata": {},
   "outputs": [
    {
     "name": "stdout",
     "output_type": "stream",
     "text": [
      "<class 'pandas.core.frame.DataFrame'>\n",
      "RangeIndex: 1197 entries, 0 to 1196\n",
      "Data columns (total 5 columns):\n",
      " #   Column         Non-Null Count  Dtype \n",
      "---  ------         --------------  ----- \n",
      " 0   transactionId  1197 non-null   int64 \n",
      " 1   visitorId      1197 non-null   int64 \n",
      " 2   date           1197 non-null   object\n",
      " 3   revenue        1197 non-null   int64 \n",
      " 4   group          1197 non-null   object\n",
      "dtypes: int64(3), object(2)\n",
      "memory usage: 46.9+ KB\n"
     ]
    }
   ],
   "source": [
    "orders.info()"
   ]
  },
  {
   "cell_type": "markdown",
   "metadata": {},
   "source": [
    "Проверим открытие таблицы visitors"
   ]
  },
  {
   "cell_type": "code",
   "execution_count": 8,
   "metadata": {},
   "outputs": [
    {
     "data": {
      "text/html": [
       "<div>\n",
       "<style scoped>\n",
       "    .dataframe tbody tr th:only-of-type {\n",
       "        vertical-align: middle;\n",
       "    }\n",
       "\n",
       "    .dataframe tbody tr th {\n",
       "        vertical-align: top;\n",
       "    }\n",
       "\n",
       "    .dataframe thead th {\n",
       "        text-align: right;\n",
       "    }\n",
       "</style>\n",
       "<table border=\"1\" class=\"dataframe\">\n",
       "  <thead>\n",
       "    <tr style=\"text-align: right;\">\n",
       "      <th></th>\n",
       "      <th>date</th>\n",
       "      <th>group</th>\n",
       "      <th>visitors</th>\n",
       "    </tr>\n",
       "  </thead>\n",
       "  <tbody>\n",
       "    <tr>\n",
       "      <th>0</th>\n",
       "      <td>2019-08-01</td>\n",
       "      <td>A</td>\n",
       "      <td>719</td>\n",
       "    </tr>\n",
       "    <tr>\n",
       "      <th>1</th>\n",
       "      <td>2019-08-02</td>\n",
       "      <td>A</td>\n",
       "      <td>619</td>\n",
       "    </tr>\n",
       "    <tr>\n",
       "      <th>2</th>\n",
       "      <td>2019-08-03</td>\n",
       "      <td>A</td>\n",
       "      <td>507</td>\n",
       "    </tr>\n",
       "    <tr>\n",
       "      <th>3</th>\n",
       "      <td>2019-08-04</td>\n",
       "      <td>A</td>\n",
       "      <td>717</td>\n",
       "    </tr>\n",
       "    <tr>\n",
       "      <th>4</th>\n",
       "      <td>2019-08-05</td>\n",
       "      <td>A</td>\n",
       "      <td>756</td>\n",
       "    </tr>\n",
       "    <tr>\n",
       "      <th>5</th>\n",
       "      <td>2019-08-06</td>\n",
       "      <td>A</td>\n",
       "      <td>667</td>\n",
       "    </tr>\n",
       "    <tr>\n",
       "      <th>6</th>\n",
       "      <td>2019-08-07</td>\n",
       "      <td>A</td>\n",
       "      <td>644</td>\n",
       "    </tr>\n",
       "    <tr>\n",
       "      <th>7</th>\n",
       "      <td>2019-08-08</td>\n",
       "      <td>A</td>\n",
       "      <td>610</td>\n",
       "    </tr>\n",
       "    <tr>\n",
       "      <th>8</th>\n",
       "      <td>2019-08-09</td>\n",
       "      <td>A</td>\n",
       "      <td>617</td>\n",
       "    </tr>\n",
       "    <tr>\n",
       "      <th>9</th>\n",
       "      <td>2019-08-10</td>\n",
       "      <td>A</td>\n",
       "      <td>406</td>\n",
       "    </tr>\n",
       "  </tbody>\n",
       "</table>\n",
       "</div>"
      ],
      "text/plain": [
       "         date group  visitors\n",
       "0  2019-08-01     A       719\n",
       "1  2019-08-02     A       619\n",
       "2  2019-08-03     A       507\n",
       "3  2019-08-04     A       717\n",
       "4  2019-08-05     A       756\n",
       "5  2019-08-06     A       667\n",
       "6  2019-08-07     A       644\n",
       "7  2019-08-08     A       610\n",
       "8  2019-08-09     A       617\n",
       "9  2019-08-10     A       406"
      ]
     },
     "execution_count": 8,
     "metadata": {},
     "output_type": "execute_result"
    }
   ],
   "source": [
    "visitors.head(10)"
   ]
  },
  {
   "cell_type": "markdown",
   "metadata": {},
   "source": [
    "Посмотрим общую информацию таблицы visitors"
   ]
  },
  {
   "cell_type": "code",
   "execution_count": 9,
   "metadata": {},
   "outputs": [
    {
     "name": "stdout",
     "output_type": "stream",
     "text": [
      "<class 'pandas.core.frame.DataFrame'>\n",
      "RangeIndex: 62 entries, 0 to 61\n",
      "Data columns (total 3 columns):\n",
      " #   Column    Non-Null Count  Dtype \n",
      "---  ------    --------------  ----- \n",
      " 0   date      62 non-null     object\n",
      " 1   group     62 non-null     object\n",
      " 2   visitors  62 non-null     int64 \n",
      "dtypes: int64(1), object(2)\n",
      "memory usage: 1.6+ KB\n"
     ]
    }
   ],
   "source": [
    "visitors.info()"
   ]
  },
  {
   "cell_type": "markdown",
   "metadata": {},
   "source": [
    "**Вывод:**\n",
    "Необходимо привести в соответствие формат данных имеющихся у нас дат, а именно в таблицах visitors и orders. Изменить немного названия некоторых колонок в таблице orders. Проверить соответственно на наличие пропусков и дубликатов. "
   ]
  },
  {
   "cell_type": "markdown",
   "metadata": {},
   "source": [
    "### Предобработка данных"
   ]
  },
  {
   "cell_type": "raw",
   "metadata": {},
   "source": [
    "Приведем столбцы date в таблицах visitors и orders к типу даты pandas"
   ]
  },
  {
   "cell_type": "code",
   "execution_count": 10,
   "metadata": {},
   "outputs": [],
   "source": [
    "orders['date'] = pd.to_datetime(orders['date'])\n",
    "visitors['date'] = pd.to_datetime(visitors['date'])"
   ]
  },
  {
   "cell_type": "markdown",
   "metadata": {},
   "source": [
    "Проверим изменился ли тип данных в таблицах"
   ]
  },
  {
   "cell_type": "code",
   "execution_count": 11,
   "metadata": {},
   "outputs": [
    {
     "data": {
      "text/html": [
       "<div>\n",
       "<style scoped>\n",
       "    .dataframe tbody tr th:only-of-type {\n",
       "        vertical-align: middle;\n",
       "    }\n",
       "\n",
       "    .dataframe tbody tr th {\n",
       "        vertical-align: top;\n",
       "    }\n",
       "\n",
       "    .dataframe thead th {\n",
       "        text-align: right;\n",
       "    }\n",
       "</style>\n",
       "<table border=\"1\" class=\"dataframe\">\n",
       "  <thead>\n",
       "    <tr style=\"text-align: right;\">\n",
       "      <th></th>\n",
       "      <th>transactionId</th>\n",
       "      <th>visitorId</th>\n",
       "      <th>date</th>\n",
       "      <th>revenue</th>\n",
       "      <th>group</th>\n",
       "    </tr>\n",
       "  </thead>\n",
       "  <tbody>\n",
       "    <tr>\n",
       "      <th>900</th>\n",
       "      <td>3922986948</td>\n",
       "      <td>1316129916</td>\n",
       "      <td>2019-08-27</td>\n",
       "      <td>830</td>\n",
       "      <td>B</td>\n",
       "    </tr>\n",
       "  </tbody>\n",
       "</table>\n",
       "</div>"
      ],
      "text/plain": [
       "     transactionId   visitorId       date  revenue group\n",
       "900     3922986948  1316129916 2019-08-27      830     B"
      ]
     },
     "execution_count": 11,
     "metadata": {},
     "output_type": "execute_result"
    }
   ],
   "source": [
    "orders.sample()"
   ]
  },
  {
   "cell_type": "code",
   "execution_count": 12,
   "metadata": {},
   "outputs": [
    {
     "name": "stdout",
     "output_type": "stream",
     "text": [
      "<class 'pandas.core.frame.DataFrame'>\n",
      "RangeIndex: 1197 entries, 0 to 1196\n",
      "Data columns (total 5 columns):\n",
      " #   Column         Non-Null Count  Dtype         \n",
      "---  ------         --------------  -----         \n",
      " 0   transactionId  1197 non-null   int64         \n",
      " 1   visitorId      1197 non-null   int64         \n",
      " 2   date           1197 non-null   datetime64[ns]\n",
      " 3   revenue        1197 non-null   int64         \n",
      " 4   group          1197 non-null   object        \n",
      "dtypes: datetime64[ns](1), int64(3), object(1)\n",
      "memory usage: 46.9+ KB\n"
     ]
    }
   ],
   "source": [
    "orders.info()"
   ]
  },
  {
   "cell_type": "code",
   "execution_count": 13,
   "metadata": {},
   "outputs": [
    {
     "data": {
      "text/html": [
       "<div>\n",
       "<style scoped>\n",
       "    .dataframe tbody tr th:only-of-type {\n",
       "        vertical-align: middle;\n",
       "    }\n",
       "\n",
       "    .dataframe tbody tr th {\n",
       "        vertical-align: top;\n",
       "    }\n",
       "\n",
       "    .dataframe thead th {\n",
       "        text-align: right;\n",
       "    }\n",
       "</style>\n",
       "<table border=\"1\" class=\"dataframe\">\n",
       "  <thead>\n",
       "    <tr style=\"text-align: right;\">\n",
       "      <th></th>\n",
       "      <th>date</th>\n",
       "      <th>group</th>\n",
       "      <th>visitors</th>\n",
       "    </tr>\n",
       "  </thead>\n",
       "  <tbody>\n",
       "    <tr>\n",
       "      <th>58</th>\n",
       "      <td>2019-08-28</td>\n",
       "      <td>B</td>\n",
       "      <td>654</td>\n",
       "    </tr>\n",
       "  </tbody>\n",
       "</table>\n",
       "</div>"
      ],
      "text/plain": [
       "         date group  visitors\n",
       "58 2019-08-28     B       654"
      ]
     },
     "execution_count": 13,
     "metadata": {},
     "output_type": "execute_result"
    }
   ],
   "source": [
    "visitors.sample()"
   ]
  },
  {
   "cell_type": "code",
   "execution_count": 14,
   "metadata": {},
   "outputs": [
    {
     "name": "stdout",
     "output_type": "stream",
     "text": [
      "<class 'pandas.core.frame.DataFrame'>\n",
      "RangeIndex: 62 entries, 0 to 61\n",
      "Data columns (total 3 columns):\n",
      " #   Column    Non-Null Count  Dtype         \n",
      "---  ------    --------------  -----         \n",
      " 0   date      62 non-null     datetime64[ns]\n",
      " 1   group     62 non-null     object        \n",
      " 2   visitors  62 non-null     int64         \n",
      "dtypes: datetime64[ns](1), int64(1), object(1)\n",
      "memory usage: 1.6+ KB\n"
     ]
    }
   ],
   "source": [
    "visitors.info()"
   ]
  },
  {
   "cell_type": "markdown",
   "metadata": {},
   "source": [
    "Заодно посмотрим за какой период у нас имеются данные"
   ]
  },
  {
   "cell_type": "code",
   "execution_count": 15,
   "metadata": {},
   "outputs": [
    {
     "data": {
      "text/plain": [
       "Timestamp('2019-08-01 00:00:00')"
      ]
     },
     "execution_count": 15,
     "metadata": {},
     "output_type": "execute_result"
    }
   ],
   "source": [
    "orders['date'].min()"
   ]
  },
  {
   "cell_type": "code",
   "execution_count": 16,
   "metadata": {},
   "outputs": [
    {
     "data": {
      "text/plain": [
       "Timestamp('2019-08-31 00:00:00')"
      ]
     },
     "execution_count": 16,
     "metadata": {},
     "output_type": "execute_result"
    }
   ],
   "source": [
    "orders['date'].max()"
   ]
  },
  {
   "cell_type": "code",
   "execution_count": 17,
   "metadata": {},
   "outputs": [
    {
     "data": {
      "text/plain": [
       "Timestamp('2019-08-01 00:00:00')"
      ]
     },
     "execution_count": 17,
     "metadata": {},
     "output_type": "execute_result"
    }
   ],
   "source": [
    "visitors['date'].min()"
   ]
  },
  {
   "cell_type": "code",
   "execution_count": 18,
   "metadata": {},
   "outputs": [
    {
     "data": {
      "text/plain": [
       "Timestamp('2019-08-31 00:00:00')"
      ]
     },
     "execution_count": 18,
     "metadata": {},
     "output_type": "execute_result"
    }
   ],
   "source": [
    "visitors['date'].max()"
   ]
  },
  {
   "cell_type": "markdown",
   "metadata": {},
   "source": [
    "Проверим таблицу orders на дубликаты"
   ]
  },
  {
   "cell_type": "code",
   "execution_count": 19,
   "metadata": {},
   "outputs": [
    {
     "data": {
      "text/plain": [
       "0"
      ]
     },
     "execution_count": 19,
     "metadata": {},
     "output_type": "execute_result"
    }
   ],
   "source": [
    "orders.duplicated().sum()"
   ]
  },
  {
   "cell_type": "markdown",
   "metadata": {},
   "source": [
    "Проверим таблицу orders на пропуски"
   ]
  },
  {
   "cell_type": "code",
   "execution_count": 20,
   "metadata": {},
   "outputs": [
    {
     "data": {
      "text/plain": [
       "transactionId    0\n",
       "visitorId        0\n",
       "date             0\n",
       "revenue          0\n",
       "group            0\n",
       "dtype: int64"
      ]
     },
     "execution_count": 20,
     "metadata": {},
     "output_type": "execute_result"
    }
   ],
   "source": [
    "orders.isna().sum()"
   ]
  },
  {
   "cell_type": "markdown",
   "metadata": {},
   "source": [
    "Проверим таблицу visitors на дубликаты"
   ]
  },
  {
   "cell_type": "code",
   "execution_count": 21,
   "metadata": {},
   "outputs": [
    {
     "data": {
      "text/plain": [
       "0"
      ]
     },
     "execution_count": 21,
     "metadata": {},
     "output_type": "execute_result"
    }
   ],
   "source": [
    "visitors.duplicated().sum()"
   ]
  },
  {
   "cell_type": "markdown",
   "metadata": {},
   "source": [
    "Проверим таблицу orders на пропуски"
   ]
  },
  {
   "cell_type": "code",
   "execution_count": 22,
   "metadata": {},
   "outputs": [
    {
     "data": {
      "text/plain": [
       "date        0\n",
       "group       0\n",
       "visitors    0\n",
       "dtype: int64"
      ]
     },
     "execution_count": 22,
     "metadata": {},
     "output_type": "execute_result"
    }
   ],
   "source": [
    "visitors.isna().sum()"
   ]
  },
  {
   "cell_type": "markdown",
   "metadata": {},
   "source": [
    "Переменуем названия колонок в таблице orders"
   ]
  },
  {
   "cell_type": "code",
   "execution_count": 23,
   "metadata": {},
   "outputs": [],
   "source": [
    "orders.rename(columns={'transactionId':'transaction_id', 'visitorId':'visitor_id'}, inplace=True)"
   ]
  },
  {
   "cell_type": "markdown",
   "metadata": {},
   "source": [
    "Проверим корректность разбиения пользователей на группы - может быть есть пользователи, попавшие в обе группы?"
   ]
  },
  {
   "cell_type": "code",
   "execution_count": 24,
   "metadata": {},
   "outputs": [
    {
     "data": {
      "text/plain": [
       "58"
      ]
     },
     "execution_count": 24,
     "metadata": {},
     "output_type": "execute_result"
    }
   ],
   "source": [
    "len(np.intersect1d(orders.query('group == \"A\"')['visitor_id']\\\n",
    "                   .unique(), orders.query('group == \"B\"')['visitor_id'].unique()))"
   ]
  },
  {
   "cell_type": "markdown",
   "metadata": {},
   "source": [
    "В данных есть 58 значений, встречающихся в обеих группах. 58 значений от 1031 пользователей — допустимо, но мы удалим их, чтобы не было дополнительных искажений при проведении тестирования"
   ]
  },
  {
   "cell_type": "markdown",
   "metadata": {},
   "source": [
    "Посмотрим на id тех, кто попал в обе группы"
   ]
  },
  {
   "cell_type": "code",
   "execution_count": 25,
   "metadata": {},
   "outputs": [
    {
     "data": {
      "text/plain": [
       "array([   8300375,  199603092,  232979603,  237748145,  276558944,\n",
       "        351125977,  393266494,  457167155,  471551937,  477780734,\n",
       "        818047933,  963407295, 1230306981, 1294878855, 1316129916,\n",
       "       1333886533, 1404934699, 1602967004, 1614305549, 1648269707,\n",
       "       1668030113, 1738359350, 1801183820, 1959144690, 2038680547,\n",
       "       2044997962, 2378935119, 2458001652, 2579882178, 2587333274,\n",
       "       2600415354, 2654030115, 2686716486, 2712142231, 2716752286,\n",
       "       2780786433, 2927087541, 2949041841, 2954449915, 3062433592,\n",
       "       3202540741, 3234906277, 3656415546, 3717692402, 3766097110,\n",
       "       3803269165, 3891541246, 3941795274, 3951559397, 3957174400,\n",
       "       3963646447, 3972127743, 3984495233, 4069496402, 4120364173,\n",
       "       4186807279, 4256040402, 4266935830], dtype=int64)"
      ]
     },
     "execution_count": 25,
     "metadata": {},
     "output_type": "execute_result"
    }
   ],
   "source": [
    "list_id = np.intersect1d(orders.query('group == \"A\"')['visitor_id'].unique(),\\\n",
    "                         orders.query('group == \"B\"')['visitor_id'].unique())\n",
    "list_id"
   ]
  },
  {
   "cell_type": "markdown",
   "metadata": {},
   "source": [
    "Переведем массив в список"
   ]
  },
  {
   "cell_type": "code",
   "execution_count": 26,
   "metadata": {},
   "outputs": [],
   "source": [
    "list_id = list_id.tolist()"
   ]
  },
  {
   "cell_type": "markdown",
   "metadata": {},
   "source": [
    "Избавимся от этих значений"
   ]
  },
  {
   "cell_type": "code",
   "execution_count": 27,
   "metadata": {},
   "outputs": [],
   "source": [
    "orders = orders[~orders.visitor_id.isin(list_id)]"
   ]
  },
  {
   "cell_type": "markdown",
   "metadata": {},
   "source": [
    "Проверим снова корректность выводимых значений"
   ]
  },
  {
   "cell_type": "code",
   "execution_count": 28,
   "metadata": {},
   "outputs": [
    {
     "data": {
      "text/plain": [
       "0"
      ]
     },
     "execution_count": 28,
     "metadata": {},
     "output_type": "execute_result"
    }
   ],
   "source": [
    "len(np.intersect1d(orders.query('group == \"A\"')['visitor_id']\\\n",
    "                   .unique(), orders.query('group == \"B\"')['visitor_id'].unique()))"
   ]
  },
  {
   "cell_type": "markdown",
   "metadata": {},
   "source": [
    "Избавились от значений. Теперь тест будет проведен корректно"
   ]
  },
  {
   "cell_type": "markdown",
   "metadata": {},
   "source": [
    "**Вывод:**\n",
    "Во время предобработки полученных данных мы сделали:\n",
    "\n",
    "- Привели колонки с датами к правильному виду\n",
    "- Проверили за какой период у нас полученные данные - за весь август 2019 года с 1 по 31 августа включительно\n",
    "- Проверили все таблицы на наличие пропущенных значений, а также на наличие дублирующих значений\n",
    "- Переименовали названия колонок в таблице orders\n",
    "- Очистили данные от значений, повторяющихся в обеих группах"
   ]
  },
  {
   "cell_type": "markdown",
   "metadata": {},
   "source": [
    "### Приоритизация гипотез"
   ]
  },
  {
   "cell_type": "markdown",
   "metadata": {},
   "source": [
    "В таблице hypothesis 9 гипотез по увеличению выручки интернет-магазина с указанными параметрами Reach, Impact, Confidence, Effort."
   ]
  },
  {
   "cell_type": "markdown",
   "metadata": {},
   "source": [
    "Применим фреймворк ICE для приоритизации гипотез. Отсортируем их по убыванию приоритета."
   ]
  },
  {
   "attachments": {
    "image.png": {
     "image/png": "[encoded data removed]"
    }
   },
   "cell_type": "markdown",
   "metadata": {},
   "source": [
    "![image.png](attachment:image.png)"
   ]
  },
  {
   "cell_type": "code",
   "execution_count": 29,
   "metadata": {},
   "outputs": [
    {
     "data": {
      "text/html": [
       "<div>\n",
       "<style scoped>\n",
       "    .dataframe tbody tr th:only-of-type {\n",
       "        vertical-align: middle;\n",
       "    }\n",
       "\n",
       "    .dataframe tbody tr th {\n",
       "        vertical-align: top;\n",
       "    }\n",
       "\n",
       "    .dataframe thead th {\n",
       "        text-align: right;\n",
       "    }\n",
       "</style>\n",
       "<table border=\"1\" class=\"dataframe\">\n",
       "  <thead>\n",
       "    <tr style=\"text-align: right;\">\n",
       "      <th></th>\n",
       "      <th>Hypothesis</th>\n",
       "      <th>Reach</th>\n",
       "      <th>Impact</th>\n",
       "      <th>Confidence</th>\n",
       "      <th>Efforts</th>\n",
       "      <th>ICE</th>\n",
       "    </tr>\n",
       "  </thead>\n",
       "  <tbody>\n",
       "    <tr>\n",
       "      <th>8</th>\n",
       "      <td>Запустить акцию, дающую скидку на товар в день рождения</td>\n",
       "      <td>1</td>\n",
       "      <td>9</td>\n",
       "      <td>9</td>\n",
       "      <td>5</td>\n",
       "      <td>16.200000</td>\n",
       "    </tr>\n",
       "    <tr>\n",
       "      <th>0</th>\n",
       "      <td>Добавить два новых канала привлечения трафика, что позволит привлекать на 30% больше пользователей</td>\n",
       "      <td>3</td>\n",
       "      <td>10</td>\n",
       "      <td>8</td>\n",
       "      <td>6</td>\n",
       "      <td>13.333333</td>\n",
       "    </tr>\n",
       "    <tr>\n",
       "      <th>7</th>\n",
       "      <td>Добавить форму подписки на все основные страницы, чтобы собрать базу клиентов для email-рассылок</td>\n",
       "      <td>10</td>\n",
       "      <td>7</td>\n",
       "      <td>8</td>\n",
       "      <td>5</td>\n",
       "      <td>11.200000</td>\n",
       "    </tr>\n",
       "    <tr>\n",
       "      <th>6</th>\n",
       "      <td>Показать на главной странице баннеры с актуальными акциями и распродажами, чтобы увеличить конверсию</td>\n",
       "      <td>5</td>\n",
       "      <td>3</td>\n",
       "      <td>8</td>\n",
       "      <td>3</td>\n",
       "      <td>8.000000</td>\n",
       "    </tr>\n",
       "    <tr>\n",
       "      <th>2</th>\n",
       "      <td>Добавить блоки рекомендаций товаров на сайт интернет магазина, чтобы повысить конверсию и средний чек заказа</td>\n",
       "      <td>8</td>\n",
       "      <td>3</td>\n",
       "      <td>7</td>\n",
       "      <td>3</td>\n",
       "      <td>7.000000</td>\n",
       "    </tr>\n",
       "    <tr>\n",
       "      <th>1</th>\n",
       "      <td>Запустить собственную службу доставки, что сократит срок доставки заказов</td>\n",
       "      <td>2</td>\n",
       "      <td>5</td>\n",
       "      <td>4</td>\n",
       "      <td>10</td>\n",
       "      <td>2.000000</td>\n",
       "    </tr>\n",
       "    <tr>\n",
       "      <th>5</th>\n",
       "      <td>Добавить страницу отзывов клиентов о магазине, что позволит увеличить количество заказов</td>\n",
       "      <td>3</td>\n",
       "      <td>2</td>\n",
       "      <td>2</td>\n",
       "      <td>3</td>\n",
       "      <td>1.333333</td>\n",
       "    </tr>\n",
       "    <tr>\n",
       "      <th>3</th>\n",
       "      <td>Изменить структура категорий, что увеличит конверсию, т.к. пользователи быстрее найдут нужный товар</td>\n",
       "      <td>8</td>\n",
       "      <td>3</td>\n",
       "      <td>3</td>\n",
       "      <td>8</td>\n",
       "      <td>1.125000</td>\n",
       "    </tr>\n",
       "    <tr>\n",
       "      <th>4</th>\n",
       "      <td>Изменить цвет фона главной страницы, чтобы увеличить вовлеченность пользователей</td>\n",
       "      <td>3</td>\n",
       "      <td>1</td>\n",
       "      <td>1</td>\n",
       "      <td>1</td>\n",
       "      <td>1.000000</td>\n",
       "    </tr>\n",
       "  </tbody>\n",
       "</table>\n",
       "</div>"
      ],
      "text/plain": [
       "                                                                                                     Hypothesis  \\\n",
       "8                                                       Запустить акцию, дающую скидку на товар в день рождения   \n",
       "0            Добавить два новых канала привлечения трафика, что позволит привлекать на 30% больше пользователей   \n",
       "7              Добавить форму подписки на все основные страницы, чтобы собрать базу клиентов для email-рассылок   \n",
       "6          Показать на главной странице баннеры с актуальными акциями и распродажами, чтобы увеличить конверсию   \n",
       "2  Добавить блоки рекомендаций товаров на сайт интернет магазина, чтобы повысить конверсию и средний чек заказа   \n",
       "1                                     Запустить собственную службу доставки, что сократит срок доставки заказов   \n",
       "5                      Добавить страницу отзывов клиентов о магазине, что позволит увеличить количество заказов   \n",
       "3           Изменить структура категорий, что увеличит конверсию, т.к. пользователи быстрее найдут нужный товар   \n",
       "4                              Изменить цвет фона главной страницы, чтобы увеличить вовлеченность пользователей   \n",
       "\n",
       "   Reach  Impact  Confidence  Efforts        ICE  \n",
       "8      1       9           9        5  16.200000  \n",
       "0      3      10           8        6  13.333333  \n",
       "7     10       7           8        5  11.200000  \n",
       "6      5       3           8        3   8.000000  \n",
       "2      8       3           7        3   7.000000  \n",
       "1      2       5           4       10   2.000000  \n",
       "5      3       2           2        3   1.333333  \n",
       "3      8       3           3        8   1.125000  \n",
       "4      3       1           1        1   1.000000  "
      ]
     },
     "execution_count": 29,
     "metadata": {},
     "output_type": "execute_result"
    }
   ],
   "source": [
    "hypothesis['ICE'] = hypothesis['Impact'] * hypothesis['Confidence'] / hypothesis['Efforts']\n",
    "hypothesis.sort_values('ICE', ascending=False).head(10)"
   ]
  },
  {
   "cell_type": "markdown",
   "metadata": {},
   "source": [
    "Применим фреймворк RICE для приоритизации гипотез. Отсортируем их по убыванию приоритета."
   ]
  },
  {
   "attachments": {
    "image.png": {
     "image/png": "[encoded data removed]"
    }
   },
   "cell_type": "markdown",
   "metadata": {},
   "source": [
    "![image.png](attachment:image.png)"
   ]
  },
  {
   "cell_type": "code",
   "execution_count": 30,
   "metadata": {},
   "outputs": [
    {
     "data": {
      "text/html": [
       "<div>\n",
       "<style scoped>\n",
       "    .dataframe tbody tr th:only-of-type {\n",
       "        vertical-align: middle;\n",
       "    }\n",
       "\n",
       "    .dataframe tbody tr th {\n",
       "        vertical-align: top;\n",
       "    }\n",
       "\n",
       "    .dataframe thead th {\n",
       "        text-align: right;\n",
       "    }\n",
       "</style>\n",
       "<table border=\"1\" class=\"dataframe\">\n",
       "  <thead>\n",
       "    <tr style=\"text-align: right;\">\n",
       "      <th></th>\n",
       "      <th>Hypothesis</th>\n",
       "      <th>Reach</th>\n",
       "      <th>Impact</th>\n",
       "      <th>Confidence</th>\n",
       "      <th>Efforts</th>\n",
       "      <th>ICE</th>\n",
       "      <th>RICE</th>\n",
       "    </tr>\n",
       "  </thead>\n",
       "  <tbody>\n",
       "    <tr>\n",
       "      <th>7</th>\n",
       "      <td>Добавить форму подписки на все основные страницы, чтобы собрать базу клиентов для email-рассылок</td>\n",
       "      <td>10</td>\n",
       "      <td>7</td>\n",
       "      <td>8</td>\n",
       "      <td>5</td>\n",
       "      <td>11.200000</td>\n",
       "      <td>112.0</td>\n",
       "    </tr>\n",
       "    <tr>\n",
       "      <th>2</th>\n",
       "      <td>Добавить блоки рекомендаций товаров на сайт интернет магазина, чтобы повысить конверсию и средний чек заказа</td>\n",
       "      <td>8</td>\n",
       "      <td>3</td>\n",
       "      <td>7</td>\n",
       "      <td>3</td>\n",
       "      <td>7.000000</td>\n",
       "      <td>56.0</td>\n",
       "    </tr>\n",
       "    <tr>\n",
       "      <th>0</th>\n",
       "      <td>Добавить два новых канала привлечения трафика, что позволит привлекать на 30% больше пользователей</td>\n",
       "      <td>3</td>\n",
       "      <td>10</td>\n",
       "      <td>8</td>\n",
       "      <td>6</td>\n",
       "      <td>13.333333</td>\n",
       "      <td>40.0</td>\n",
       "    </tr>\n",
       "    <tr>\n",
       "      <th>6</th>\n",
       "      <td>Показать на главной странице баннеры с актуальными акциями и распродажами, чтобы увеличить конверсию</td>\n",
       "      <td>5</td>\n",
       "      <td>3</td>\n",
       "      <td>8</td>\n",
       "      <td>3</td>\n",
       "      <td>8.000000</td>\n",
       "      <td>40.0</td>\n",
       "    </tr>\n",
       "    <tr>\n",
       "      <th>8</th>\n",
       "      <td>Запустить акцию, дающую скидку на товар в день рождения</td>\n",
       "      <td>1</td>\n",
       "      <td>9</td>\n",
       "      <td>9</td>\n",
       "      <td>5</td>\n",
       "      <td>16.200000</td>\n",
       "      <td>16.2</td>\n",
       "    </tr>\n",
       "    <tr>\n",
       "      <th>3</th>\n",
       "      <td>Изменить структура категорий, что увеличит конверсию, т.к. пользователи быстрее найдут нужный товар</td>\n",
       "      <td>8</td>\n",
       "      <td>3</td>\n",
       "      <td>3</td>\n",
       "      <td>8</td>\n",
       "      <td>1.125000</td>\n",
       "      <td>9.0</td>\n",
       "    </tr>\n",
       "    <tr>\n",
       "      <th>1</th>\n",
       "      <td>Запустить собственную службу доставки, что сократит срок доставки заказов</td>\n",
       "      <td>2</td>\n",
       "      <td>5</td>\n",
       "      <td>4</td>\n",
       "      <td>10</td>\n",
       "      <td>2.000000</td>\n",
       "      <td>4.0</td>\n",
       "    </tr>\n",
       "    <tr>\n",
       "      <th>5</th>\n",
       "      <td>Добавить страницу отзывов клиентов о магазине, что позволит увеличить количество заказов</td>\n",
       "      <td>3</td>\n",
       "      <td>2</td>\n",
       "      <td>2</td>\n",
       "      <td>3</td>\n",
       "      <td>1.333333</td>\n",
       "      <td>4.0</td>\n",
       "    </tr>\n",
       "    <tr>\n",
       "      <th>4</th>\n",
       "      <td>Изменить цвет фона главной страницы, чтобы увеличить вовлеченность пользователей</td>\n",
       "      <td>3</td>\n",
       "      <td>1</td>\n",
       "      <td>1</td>\n",
       "      <td>1</td>\n",
       "      <td>1.000000</td>\n",
       "      <td>3.0</td>\n",
       "    </tr>\n",
       "  </tbody>\n",
       "</table>\n",
       "</div>"
      ],
      "text/plain": [
       "                                                                                                     Hypothesis  \\\n",
       "7              Добавить форму подписки на все основные страницы, чтобы собрать базу клиентов для email-рассылок   \n",
       "2  Добавить блоки рекомендаций товаров на сайт интернет магазина, чтобы повысить конверсию и средний чек заказа   \n",
       "0            Добавить два новых канала привлечения трафика, что позволит привлекать на 30% больше пользователей   \n",
       "6          Показать на главной странице баннеры с актуальными акциями и распродажами, чтобы увеличить конверсию   \n",
       "8                                                       Запустить акцию, дающую скидку на товар в день рождения   \n",
       "3           Изменить структура категорий, что увеличит конверсию, т.к. пользователи быстрее найдут нужный товар   \n",
       "1                                     Запустить собственную службу доставки, что сократит срок доставки заказов   \n",
       "5                      Добавить страницу отзывов клиентов о магазине, что позволит увеличить количество заказов   \n",
       "4                              Изменить цвет фона главной страницы, чтобы увеличить вовлеченность пользователей   \n",
       "\n",
       "   Reach  Impact  Confidence  Efforts        ICE   RICE  \n",
       "7     10       7           8        5  11.200000  112.0  \n",
       "2      8       3           7        3   7.000000   56.0  \n",
       "0      3      10           8        6  13.333333   40.0  \n",
       "6      5       3           8        3   8.000000   40.0  \n",
       "8      1       9           9        5  16.200000   16.2  \n",
       "3      8       3           3        8   1.125000    9.0  \n",
       "1      2       5           4       10   2.000000    4.0  \n",
       "5      3       2           2        3   1.333333    4.0  \n",
       "4      3       1           1        1   1.000000    3.0  "
      ]
     },
     "execution_count": 30,
     "metadata": {},
     "output_type": "execute_result"
    }
   ],
   "source": [
    "hypothesis['RICE'] = hypothesis['Reach'] * hypothesis['Impact'] * hypothesis['Confidence'] / hypothesis['Efforts']\n",
    "hypothesis.sort_values('RICE', ascending=False).head(10)"
   ]
  },
  {
   "cell_type": "code",
   "execution_count": 31,
   "metadata": {},
   "outputs": [
    {
     "data": {
      "image/png": "[encoded data removed]",
      "text/plain": [
       "<Figure size 640x480 with 1 Axes>"
      ]
     },
     "metadata": {},
     "output_type": "display_data"
    }
   ],
   "source": [
    "ax = hypothesis[['Hypothesis', 'ICE']].set_index('Hypothesis')\\\n",
    "                                      .sort_values('ICE', ascending=True)\\\n",
    "                                      .plot(kind='barh',color=\"#B041FF\")\n",
    "ax.set_xlabel('Приоритет')\n",
    "ax.set_ylabel('Гипотеза')\n",
    "ax.set_title('ICE')\n",
    "ax.legend().set_visible(False)\n",
    "plt.grid (axis='x')\n",
    "plt.show()"
   ]
  },
  {
   "cell_type": "code",
   "execution_count": 32,
   "metadata": {},
   "outputs": [
    {
     "data": {
      "image/png": "[encoded data removed]",
      "text/plain": [
       "<Figure size 640x480 with 1 Axes>"
      ]
     },
     "metadata": {},
     "output_type": "display_data"
    }
   ],
   "source": [
    "ax = hypothesis[['Hypothesis', 'RICE']].set_index('Hypothesis')\\\n",
    "                                       .sort_values('RICE', ascending=True)\\\n",
    "                                       .plot(kind='barh',color=\"#3EB489\")\n",
    "ax.set_xlabel('Приоритет')\n",
    "ax.set_ylabel('Гипотеза')\n",
    "ax.set_title('RICE')\n",
    "ax.legend().set_visible(False)\n",
    "plt.grid (axis='x')\n",
    "plt.show()"
   ]
  },
  {
   "cell_type": "code",
   "execution_count": 33,
   "metadata": {},
   "outputs": [
    {
     "data": {
      "text/html": [
       "<div>\n",
       "<style scoped>\n",
       "    .dataframe tbody tr th:only-of-type {\n",
       "        vertical-align: middle;\n",
       "    }\n",
       "\n",
       "    .dataframe tbody tr th {\n",
       "        vertical-align: top;\n",
       "    }\n",
       "\n",
       "    .dataframe thead th {\n",
       "        text-align: right;\n",
       "    }\n",
       "</style>\n",
       "<table border=\"1\" class=\"dataframe\">\n",
       "  <thead>\n",
       "    <tr style=\"text-align: right;\">\n",
       "      <th></th>\n",
       "      <th>ICE</th>\n",
       "      <th>RICE</th>\n",
       "    </tr>\n",
       "  </thead>\n",
       "  <tbody>\n",
       "    <tr>\n",
       "      <th>0</th>\n",
       "      <td>8</td>\n",
       "      <td>7</td>\n",
       "    </tr>\n",
       "    <tr>\n",
       "      <th>1</th>\n",
       "      <td>0</td>\n",
       "      <td>2</td>\n",
       "    </tr>\n",
       "    <tr>\n",
       "      <th>2</th>\n",
       "      <td>7</td>\n",
       "      <td>0</td>\n",
       "    </tr>\n",
       "    <tr>\n",
       "      <th>3</th>\n",
       "      <td>6</td>\n",
       "      <td>6</td>\n",
       "    </tr>\n",
       "    <tr>\n",
       "      <th>4</th>\n",
       "      <td>2</td>\n",
       "      <td>8</td>\n",
       "    </tr>\n",
       "    <tr>\n",
       "      <th>5</th>\n",
       "      <td>1</td>\n",
       "      <td>3</td>\n",
       "    </tr>\n",
       "    <tr>\n",
       "      <th>6</th>\n",
       "      <td>5</td>\n",
       "      <td>1</td>\n",
       "    </tr>\n",
       "    <tr>\n",
       "      <th>7</th>\n",
       "      <td>3</td>\n",
       "      <td>5</td>\n",
       "    </tr>\n",
       "    <tr>\n",
       "      <th>8</th>\n",
       "      <td>4</td>\n",
       "      <td>4</td>\n",
       "    </tr>\n",
       "  </tbody>\n",
       "</table>\n",
       "</div>"
      ],
      "text/plain": [
       "   ICE  RICE\n",
       "0    8     7\n",
       "1    0     2\n",
       "2    7     0\n",
       "3    6     6\n",
       "4    2     8\n",
       "5    1     3\n",
       "6    5     1\n",
       "7    3     5\n",
       "8    4     4"
      ]
     },
     "execution_count": 33,
     "metadata": {},
     "output_type": "execute_result"
    }
   ],
   "source": [
    "ICE_RICE = pd.DataFrame({'ICE': [8, 0, 7, 6, 2, 1, 5, 3, 4], 'RICE': [7, 2, 0, 6, 8, 3, 1, 5, 4]})\n",
    "ICE_RICE"
   ]
  },
  {
   "cell_type": "code",
   "execution_count": 34,
   "metadata": {},
   "outputs": [
    {
     "data": {
      "text/html": [
       "<style type=\"text/css\">\n",
       "#T_19d63_row0_col0, #T_19d63_row4_col1 {\n",
       "  background-color: #008000;\n",
       "  color: #f1f1f1;\n",
       "}\n",
       "#T_19d63_row0_col1, #T_19d63_row2_col0 {\n",
       "  background-color: #1d8e1d;\n",
       "  color: #f1f1f1;\n",
       "}\n",
       "#T_19d63_row1_col0, #T_19d63_row2_col1 {\n",
       "  background-color: #ebf3eb;\n",
       "  color: #000000;\n",
       "}\n",
       "#T_19d63_row1_col1, #T_19d63_row4_col0 {\n",
       "  background-color: #b0d6b0;\n",
       "  color: #000000;\n",
       "}\n",
       "#T_19d63_row3_col0, #T_19d63_row3_col1 {\n",
       "  background-color: #3a9c3a;\n",
       "  color: #f1f1f1;\n",
       "}\n",
       "#T_19d63_row5_col0, #T_19d63_row6_col1 {\n",
       "  background-color: #cde5cd;\n",
       "  color: #000000;\n",
       "}\n",
       "#T_19d63_row5_col1, #T_19d63_row7_col0 {\n",
       "  background-color: #92c892;\n",
       "  color: #000000;\n",
       "}\n",
       "#T_19d63_row6_col0, #T_19d63_row7_col1 {\n",
       "  background-color: #57ab57;\n",
       "  color: #f1f1f1;\n",
       "}\n",
       "#T_19d63_row8_col0, #T_19d63_row8_col1 {\n",
       "  background-color: #75b975;\n",
       "  color: #f1f1f1;\n",
       "}\n",
       "</style>\n",
       "<table id=\"T_19d63\">\n",
       "  <thead>\n",
       "    <tr>\n",
       "      <th class=\"blank level0\" >&nbsp;</th>\n",
       "      <th id=\"T_19d63_level0_col0\" class=\"col_heading level0 col0\" >ICE</th>\n",
       "      <th id=\"T_19d63_level0_col1\" class=\"col_heading level0 col1\" >RICE</th>\n",
       "    </tr>\n",
       "  </thead>\n",
       "  <tbody>\n",
       "    <tr>\n",
       "      <th id=\"T_19d63_level0_row0\" class=\"row_heading level0 row0\" >0</th>\n",
       "      <td id=\"T_19d63_row0_col0\" class=\"data row0 col0\" >8</td>\n",
       "      <td id=\"T_19d63_row0_col1\" class=\"data row0 col1\" >7</td>\n",
       "    </tr>\n",
       "    <tr>\n",
       "      <th id=\"T_19d63_level0_row1\" class=\"row_heading level0 row1\" >1</th>\n",
       "      <td id=\"T_19d63_row1_col0\" class=\"data row1 col0\" >0</td>\n",
       "      <td id=\"T_19d63_row1_col1\" class=\"data row1 col1\" >2</td>\n",
       "    </tr>\n",
       "    <tr>\n",
       "      <th id=\"T_19d63_level0_row2\" class=\"row_heading level0 row2\" >2</th>\n",
       "      <td id=\"T_19d63_row2_col0\" class=\"data row2 col0\" >7</td>\n",
       "      <td id=\"T_19d63_row2_col1\" class=\"data row2 col1\" >0</td>\n",
       "    </tr>\n",
       "    <tr>\n",
       "      <th id=\"T_19d63_level0_row3\" class=\"row_heading level0 row3\" >3</th>\n",
       "      <td id=\"T_19d63_row3_col0\" class=\"data row3 col0\" >6</td>\n",
       "      <td id=\"T_19d63_row3_col1\" class=\"data row3 col1\" >6</td>\n",
       "    </tr>\n",
       "    <tr>\n",
       "      <th id=\"T_19d63_level0_row4\" class=\"row_heading level0 row4\" >4</th>\n",
       "      <td id=\"T_19d63_row4_col0\" class=\"data row4 col0\" >2</td>\n",
       "      <td id=\"T_19d63_row4_col1\" class=\"data row4 col1\" >8</td>\n",
       "    </tr>\n",
       "    <tr>\n",
       "      <th id=\"T_19d63_level0_row5\" class=\"row_heading level0 row5\" >5</th>\n",
       "      <td id=\"T_19d63_row5_col0\" class=\"data row5 col0\" >1</td>\n",
       "      <td id=\"T_19d63_row5_col1\" class=\"data row5 col1\" >3</td>\n",
       "    </tr>\n",
       "    <tr>\n",
       "      <th id=\"T_19d63_level0_row6\" class=\"row_heading level0 row6\" >6</th>\n",
       "      <td id=\"T_19d63_row6_col0\" class=\"data row6 col0\" >5</td>\n",
       "      <td id=\"T_19d63_row6_col1\" class=\"data row6 col1\" >1</td>\n",
       "    </tr>\n",
       "    <tr>\n",
       "      <th id=\"T_19d63_level0_row7\" class=\"row_heading level0 row7\" >7</th>\n",
       "      <td id=\"T_19d63_row7_col0\" class=\"data row7 col0\" >3</td>\n",
       "      <td id=\"T_19d63_row7_col1\" class=\"data row7 col1\" >5</td>\n",
       "    </tr>\n",
       "    <tr>\n",
       "      <th id=\"T_19d63_level0_row8\" class=\"row_heading level0 row8\" >8</th>\n",
       "      <td id=\"T_19d63_row8_col0\" class=\"data row8 col0\" >4</td>\n",
       "      <td id=\"T_19d63_row8_col1\" class=\"data row8 col1\" >4</td>\n",
       "    </tr>\n",
       "  </tbody>\n",
       "</table>\n"
      ],
      "text/plain": [
       "<pandas.io.formats.style.Styler at 0x21a1b48b880>"
      ]
     },
     "execution_count": 34,
     "metadata": {},
     "output_type": "execute_result"
    }
   ],
   "source": [
    "import seaborn as sns\n",
    "cm = sns.light_palette(\"green\", as_cmap=True)\n",
    "\n",
    "ICE_RICE.style.background_gradient(cmap=cm)"
   ]
  },
  {
   "cell_type": "code",
   "execution_count": 35,
   "metadata": {},
   "outputs": [
    {
     "data": {
      "text/html": [
       "<style type=\"text/css\">\n",
       "#T_d4995_row0_col1, #T_d4995_row2_col2, #T_d4995_row2_col4, #T_d4995_row3_col2, #T_d4995_row4_col1, #T_d4995_row5_col1, #T_d4995_row5_col4, #T_d4995_row6_col2, #T_d4995_row6_col4 {\n",
       "  background-color: #b7dab7;\n",
       "  color: #000000;\n",
       "}\n",
       "#T_d4995_row0_col2, #T_d4995_row1_col4, #T_d4995_row7_col1, #T_d4995_row7_col6, #T_d4995_row8_col3, #T_d4995_row8_col5 {\n",
       "  background-color: #008000;\n",
       "  color: #f1f1f1;\n",
       "}\n",
       "#T_d4995_row0_col3, #T_d4995_row6_col3, #T_d4995_row7_col3 {\n",
       "  background-color: #1d8e1d;\n",
       "  color: #f1f1f1;\n",
       "}\n",
       "#T_d4995_row0_col4 {\n",
       "  background-color: #68b368;\n",
       "  color: #f1f1f1;\n",
       "}\n",
       "#T_d4995_row0_col5 {\n",
       "  background-color: #2c962c;\n",
       "  color: #f1f1f1;\n",
       "}\n",
       "#T_d4995_row0_col6, #T_d4995_row6_col6 {\n",
       "  background-color: #9bcc9b;\n",
       "  color: #000000;\n",
       "}\n",
       "#T_d4995_row1_col1, #T_d4995_row5_col2 {\n",
       "  background-color: #d1e6d1;\n",
       "  color: #000000;\n",
       "}\n",
       "#T_d4995_row1_col2, #T_d4995_row6_col1, #T_d4995_row7_col4, #T_d4995_row8_col4 {\n",
       "  background-color: #83c083;\n",
       "  color: #000000;\n",
       "}\n",
       "#T_d4995_row1_col3 {\n",
       "  background-color: #92c892;\n",
       "  color: #000000;\n",
       "}\n",
       "#T_d4995_row1_col5 {\n",
       "  background-color: #dcecdc;\n",
       "  color: #000000;\n",
       "}\n",
       "#T_d4995_row1_col6, #T_d4995_row3_col5, #T_d4995_row5_col6 {\n",
       "  background-color: #e9f2e9;\n",
       "  color: #000000;\n",
       "}\n",
       "#T_d4995_row2_col1, #T_d4995_row3_col1, #T_d4995_row3_col4 {\n",
       "  background-color: #349934;\n",
       "  color: #f1f1f1;\n",
       "}\n",
       "#T_d4995_row2_col3 {\n",
       "  background-color: #3a9c3a;\n",
       "  color: #f1f1f1;\n",
       "}\n",
       "#T_d4995_row2_col5 {\n",
       "  background-color: #8ec58e;\n",
       "  color: #000000;\n",
       "}\n",
       "#T_d4995_row2_col6 {\n",
       "  background-color: #78bb78;\n",
       "  color: #000000;\n",
       "}\n",
       "#T_d4995_row3_col3 {\n",
       "  background-color: #b0d6b0;\n",
       "  color: #000000;\n",
       "}\n",
       "#T_d4995_row3_col6 {\n",
       "  background-color: #deedde;\n",
       "  color: #000000;\n",
       "}\n",
       "#T_d4995_row4_col2, #T_d4995_row4_col3, #T_d4995_row4_col4, #T_d4995_row4_col5, #T_d4995_row4_col6, #T_d4995_row8_col1 {\n",
       "  background-color: #ebf3eb;\n",
       "  color: #000000;\n",
       "}\n",
       "#T_d4995_row5_col3 {\n",
       "  background-color: #cde5cd;\n",
       "  color: #000000;\n",
       "}\n",
       "#T_d4995_row5_col5 {\n",
       "  background-color: #e6f1e6;\n",
       "  color: #000000;\n",
       "}\n",
       "#T_d4995_row6_col5 {\n",
       "  background-color: #7fbe7f;\n",
       "  color: #000000;\n",
       "}\n",
       "#T_d4995_row7_col2 {\n",
       "  background-color: #4ea64e;\n",
       "  color: #f1f1f1;\n",
       "}\n",
       "#T_d4995_row7_col5 {\n",
       "  background-color: #4da64d;\n",
       "  color: #f1f1f1;\n",
       "}\n",
       "#T_d4995_row8_col2 {\n",
       "  background-color: #1a8d1a;\n",
       "  color: #f1f1f1;\n",
       "}\n",
       "#T_d4995_row8_col6 {\n",
       "  background-color: #cee5ce;\n",
       "  color: #000000;\n",
       "}\n",
       "</style>\n",
       "<table id=\"T_d4995\">\n",
       "  <thead>\n",
       "    <tr>\n",
       "      <th class=\"blank level0\" >&nbsp;</th>\n",
       "      <th id=\"T_d4995_level0_col0\" class=\"col_heading level0 col0\" >Hypothesis</th>\n",
       "      <th id=\"T_d4995_level0_col1\" class=\"col_heading level0 col1\" >Reach</th>\n",
       "      <th id=\"T_d4995_level0_col2\" class=\"col_heading level0 col2\" >Impact</th>\n",
       "      <th id=\"T_d4995_level0_col3\" class=\"col_heading level0 col3\" >Confidence</th>\n",
       "      <th id=\"T_d4995_level0_col4\" class=\"col_heading level0 col4\" >Efforts</th>\n",
       "      <th id=\"T_d4995_level0_col5\" class=\"col_heading level0 col5\" >ICE</th>\n",
       "      <th id=\"T_d4995_level0_col6\" class=\"col_heading level0 col6\" >RICE</th>\n",
       "    </tr>\n",
       "  </thead>\n",
       "  <tbody>\n",
       "    <tr>\n",
       "      <th id=\"T_d4995_level0_row0\" class=\"row_heading level0 row0\" >0</th>\n",
       "      <td id=\"T_d4995_row0_col0\" class=\"data row0 col0\" >Добавить два новых канала привлечения трафика, что позволит привлекать на 30% больше пользователей</td>\n",
       "      <td id=\"T_d4995_row0_col1\" class=\"data row0 col1\" >3</td>\n",
       "      <td id=\"T_d4995_row0_col2\" class=\"data row0 col2\" >10</td>\n",
       "      <td id=\"T_d4995_row0_col3\" class=\"data row0 col3\" >8</td>\n",
       "      <td id=\"T_d4995_row0_col4\" class=\"data row0 col4\" >6</td>\n",
       "      <td id=\"T_d4995_row0_col5\" class=\"data row0 col5\" >13.333333</td>\n",
       "      <td id=\"T_d4995_row0_col6\" class=\"data row0 col6\" >40.000000</td>\n",
       "    </tr>\n",
       "    <tr>\n",
       "      <th id=\"T_d4995_level0_row1\" class=\"row_heading level0 row1\" >1</th>\n",
       "      <td id=\"T_d4995_row1_col0\" class=\"data row1 col0\" >Запустить собственную службу доставки, что сократит срок доставки заказов</td>\n",
       "      <td id=\"T_d4995_row1_col1\" class=\"data row1 col1\" >2</td>\n",
       "      <td id=\"T_d4995_row1_col2\" class=\"data row1 col2\" >5</td>\n",
       "      <td id=\"T_d4995_row1_col3\" class=\"data row1 col3\" >4</td>\n",
       "      <td id=\"T_d4995_row1_col4\" class=\"data row1 col4\" >10</td>\n",
       "      <td id=\"T_d4995_row1_col5\" class=\"data row1 col5\" >2.000000</td>\n",
       "      <td id=\"T_d4995_row1_col6\" class=\"data row1 col6\" >4.000000</td>\n",
       "    </tr>\n",
       "    <tr>\n",
       "      <th id=\"T_d4995_level0_row2\" class=\"row_heading level0 row2\" >2</th>\n",
       "      <td id=\"T_d4995_row2_col0\" class=\"data row2 col0\" >Добавить блоки рекомендаций товаров на сайт интернет магазина, чтобы повысить конверсию и средний чек заказа</td>\n",
       "      <td id=\"T_d4995_row2_col1\" class=\"data row2 col1\" >8</td>\n",
       "      <td id=\"T_d4995_row2_col2\" class=\"data row2 col2\" >3</td>\n",
       "      <td id=\"T_d4995_row2_col3\" class=\"data row2 col3\" >7</td>\n",
       "      <td id=\"T_d4995_row2_col4\" class=\"data row2 col4\" >3</td>\n",
       "      <td id=\"T_d4995_row2_col5\" class=\"data row2 col5\" >7.000000</td>\n",
       "      <td id=\"T_d4995_row2_col6\" class=\"data row2 col6\" >56.000000</td>\n",
       "    </tr>\n",
       "    <tr>\n",
       "      <th id=\"T_d4995_level0_row3\" class=\"row_heading level0 row3\" >3</th>\n",
       "      <td id=\"T_d4995_row3_col0\" class=\"data row3 col0\" >Изменить структура категорий, что увеличит конверсию, т.к. пользователи быстрее найдут нужный товар</td>\n",
       "      <td id=\"T_d4995_row3_col1\" class=\"data row3 col1\" >8</td>\n",
       "      <td id=\"T_d4995_row3_col2\" class=\"data row3 col2\" >3</td>\n",
       "      <td id=\"T_d4995_row3_col3\" class=\"data row3 col3\" >3</td>\n",
       "      <td id=\"T_d4995_row3_col4\" class=\"data row3 col4\" >8</td>\n",
       "      <td id=\"T_d4995_row3_col5\" class=\"data row3 col5\" >1.125000</td>\n",
       "      <td id=\"T_d4995_row3_col6\" class=\"data row3 col6\" >9.000000</td>\n",
       "    </tr>\n",
       "    <tr>\n",
       "      <th id=\"T_d4995_level0_row4\" class=\"row_heading level0 row4\" >4</th>\n",
       "      <td id=\"T_d4995_row4_col0\" class=\"data row4 col0\" >Изменить цвет фона главной страницы, чтобы увеличить вовлеченность пользователей</td>\n",
       "      <td id=\"T_d4995_row4_col1\" class=\"data row4 col1\" >3</td>\n",
       "      <td id=\"T_d4995_row4_col2\" class=\"data row4 col2\" >1</td>\n",
       "      <td id=\"T_d4995_row4_col3\" class=\"data row4 col3\" >1</td>\n",
       "      <td id=\"T_d4995_row4_col4\" class=\"data row4 col4\" >1</td>\n",
       "      <td id=\"T_d4995_row4_col5\" class=\"data row4 col5\" >1.000000</td>\n",
       "      <td id=\"T_d4995_row4_col6\" class=\"data row4 col6\" >3.000000</td>\n",
       "    </tr>\n",
       "    <tr>\n",
       "      <th id=\"T_d4995_level0_row5\" class=\"row_heading level0 row5\" >5</th>\n",
       "      <td id=\"T_d4995_row5_col0\" class=\"data row5 col0\" >Добавить страницу отзывов клиентов о магазине, что позволит увеличить количество заказов</td>\n",
       "      <td id=\"T_d4995_row5_col1\" class=\"data row5 col1\" >3</td>\n",
       "      <td id=\"T_d4995_row5_col2\" class=\"data row5 col2\" >2</td>\n",
       "      <td id=\"T_d4995_row5_col3\" class=\"data row5 col3\" >2</td>\n",
       "      <td id=\"T_d4995_row5_col4\" class=\"data row5 col4\" >3</td>\n",
       "      <td id=\"T_d4995_row5_col5\" class=\"data row5 col5\" >1.333333</td>\n",
       "      <td id=\"T_d4995_row5_col6\" class=\"data row5 col6\" >4.000000</td>\n",
       "    </tr>\n",
       "    <tr>\n",
       "      <th id=\"T_d4995_level0_row6\" class=\"row_heading level0 row6\" >6</th>\n",
       "      <td id=\"T_d4995_row6_col0\" class=\"data row6 col0\" >Показать на главной странице баннеры с актуальными акциями и распродажами, чтобы увеличить конверсию</td>\n",
       "      <td id=\"T_d4995_row6_col1\" class=\"data row6 col1\" >5</td>\n",
       "      <td id=\"T_d4995_row6_col2\" class=\"data row6 col2\" >3</td>\n",
       "      <td id=\"T_d4995_row6_col3\" class=\"data row6 col3\" >8</td>\n",
       "      <td id=\"T_d4995_row6_col4\" class=\"data row6 col4\" >3</td>\n",
       "      <td id=\"T_d4995_row6_col5\" class=\"data row6 col5\" >8.000000</td>\n",
       "      <td id=\"T_d4995_row6_col6\" class=\"data row6 col6\" >40.000000</td>\n",
       "    </tr>\n",
       "    <tr>\n",
       "      <th id=\"T_d4995_level0_row7\" class=\"row_heading level0 row7\" >7</th>\n",
       "      <td id=\"T_d4995_row7_col0\" class=\"data row7 col0\" >Добавить форму подписки на все основные страницы, чтобы собрать базу клиентов для email-рассылок</td>\n",
       "      <td id=\"T_d4995_row7_col1\" class=\"data row7 col1\" >10</td>\n",
       "      <td id=\"T_d4995_row7_col2\" class=\"data row7 col2\" >7</td>\n",
       "      <td id=\"T_d4995_row7_col3\" class=\"data row7 col3\" >8</td>\n",
       "      <td id=\"T_d4995_row7_col4\" class=\"data row7 col4\" >5</td>\n",
       "      <td id=\"T_d4995_row7_col5\" class=\"data row7 col5\" >11.200000</td>\n",
       "      <td id=\"T_d4995_row7_col6\" class=\"data row7 col6\" >112.000000</td>\n",
       "    </tr>\n",
       "    <tr>\n",
       "      <th id=\"T_d4995_level0_row8\" class=\"row_heading level0 row8\" >8</th>\n",
       "      <td id=\"T_d4995_row8_col0\" class=\"data row8 col0\" >Запустить акцию, дающую скидку на товар в день рождения</td>\n",
       "      <td id=\"T_d4995_row8_col1\" class=\"data row8 col1\" >1</td>\n",
       "      <td id=\"T_d4995_row8_col2\" class=\"data row8 col2\" >9</td>\n",
       "      <td id=\"T_d4995_row8_col3\" class=\"data row8 col3\" >9</td>\n",
       "      <td id=\"T_d4995_row8_col4\" class=\"data row8 col4\" >5</td>\n",
       "      <td id=\"T_d4995_row8_col5\" class=\"data row8 col5\" >16.200000</td>\n",
       "      <td id=\"T_d4995_row8_col6\" class=\"data row8 col6\" >16.200000</td>\n",
       "    </tr>\n",
       "  </tbody>\n",
       "</table>\n"
      ],
      "text/plain": [
       "<pandas.io.formats.style.Styler at 0x21a1bb67670>"
      ]
     },
     "execution_count": 35,
     "metadata": {},
     "output_type": "execute_result"
    }
   ],
   "source": [
    "import seaborn as sns\n",
    "cm = sns.light_palette(\"green\", as_cmap=True)\n",
    "\n",
    "hypothesis.style.background_gradient(cmap=cm)"
   ]
  },
  {
   "cell_type": "markdown",
   "metadata": {},
   "source": [
    "**Вывод:**\n",
    "\n",
    "Приоритизация гипотез при применении ICE получилась следующая первые три места по приоритетности заняли такие гипотезы как: \n",
    "- Запустить акцию, дающую скидку на товар в день рождения\n",
    "- Добавить два новых канала привлечения трафика, что позволит привлекать на 30% больше пользователей\n",
    "- Добавить форму подписки на все основные страницы, чтобы собрать базу клиентов для e-mail рассылок\n",
    "\n",
    "Приоритизация гипотез при применении RICE получилась следующая первые три места (3 место заняли две гипотезы) по приоритетности заняли такие гипотезы как: \n",
    "- Добавить форму подписки на все основные страницы, чтобы собрать базу клиентов для e-mail рассылок\n",
    "- Добавить блоки рекомендаций товаров на сайт интернет-магазина, чтобы повысить конверсию и средний чек заказа\n",
    "- Добавить два новых канала привлечения трафика, что позволит привлекать на 30% больше пользователей\n",
    "- Показать на главной странице баннеры с актуальными акциями и распродажами, чтобы увеличить конверсию\n",
    "\n",
    "Как изменилась приоритизация гипотез при применении RICE вместо ICE?\n",
    "\n",
    "Как мы видим при применении RICE вместо ICE приоритеты поменялись, если при ICE на первом месте стояла одна гипотеза, то при применении RICE уже в приоритете абсолютно другая гипотеза.\n",
    "\n",
    "Это связано с тем, что показатели измеряются по разному и RICE включает в себя также и охват гипотезы\n",
    "\n",
    "**При применении RICE вместо ICE, приоритизация гипотез изменяется по следующим принципам:**\n",
    "\n",
    "- Reach (Охват): Вместо простой двоичной оценки \"да/нет\" в RICE используется шкала оценки охвата, где каждой гипотезе присваивается числовое значение, отражающее охват пользователей, которых она затронет. Это позволяет более точно учитывать масштаб потенциального воздействия гипотезы.\n",
    "\n",
    "- Impact (Влияние): Вместо оценки влияния на пользователей, RICE учитывает более широкий контекст влияния, включая не только пользователей, но и другие факторы, такие как прибыль, удовлетворенность клиентов и другие показатели. Влияние оценивается числовым значением, что позволяет учесть разные аспекты влияния гипотезы.\n",
    "\n",
    "- Confidence (Уверенность): В RICE используется шкала оценки уверенности в достоверности данных, на основе которых делается предположение о влиянии гипотезы. Чем выше уровень уверенности, тем больше вес имеет гипотеза при ее приоритизации.\n",
    "\n",
    "- Effort (Усилия): RICE учитывает сложность и затраты внедрения гипотезы. Чем больше усилий требуется для внедрения, тем меньше вес имеет гипотеза при приоритизации.\n",
    "\n",
    "*В результате применения RICE, приоритизация гипотез происходит более системно и учитывает более широкий спектр факторов, таких как охват, влияние, уверенность и усилия. Это помогает более точно определить приоритеты и выбрать наиболее значимые гипотезы для реализации.*"
   ]
  },
  {
   "cell_type": "markdown",
   "metadata": {},
   "source": [
    "### Анализ A/B-теста"
   ]
  },
  {
   "cell_type": "markdown",
   "metadata": {},
   "source": [
    "Мы провели A/B-тест и получили результаты, которые описаны в таблицах orders и visitors"
   ]
  },
  {
   "cell_type": "markdown",
   "metadata": {},
   "source": [
    "Для начала сгруппируем и агрегирруем данные из таблицы orders по датам и посчитаем выручку, определим покупки и покупателей."
   ]
  },
  {
   "cell_type": "code",
   "execution_count": 36,
   "metadata": {},
   "outputs": [],
   "source": [
    "orders_group = (orders.groupby(['date','group'], as_index=False)\n",
    "                      .agg({'transaction_id':'nunique','visitor_id':'nunique','revenue':'sum'}))\\\n",
    "                      .rename(columns={'transaction_id':'orders','visitor_id':'buyers'})\n",
    "\n",
    "orders_group['group_copy'] = orders_group['group']\n",
    "orders_group = orders_group.set_index(['date','group'])\n",
    "orders_csum = orders_group.sort_values(['date','group'])\\\n",
    "                          .groupby('group_copy')\\\n",
    "                          .cumsum()\\\n",
    "                          .reset_index()"
   ]
  },
  {
   "cell_type": "markdown",
   "metadata": {},
   "source": [
    "Проверим полученный результат"
   ]
  },
  {
   "cell_type": "code",
   "execution_count": 37,
   "metadata": {},
   "outputs": [
    {
     "data": {
      "text/html": [
       "<div>\n",
       "<style scoped>\n",
       "    .dataframe tbody tr th:only-of-type {\n",
       "        vertical-align: middle;\n",
       "    }\n",
       "\n",
       "    .dataframe tbody tr th {\n",
       "        vertical-align: top;\n",
       "    }\n",
       "\n",
       "    .dataframe thead th {\n",
       "        text-align: right;\n",
       "    }\n",
       "</style>\n",
       "<table border=\"1\" class=\"dataframe\">\n",
       "  <thead>\n",
       "    <tr style=\"text-align: right;\">\n",
       "      <th></th>\n",
       "      <th></th>\n",
       "      <th>orders</th>\n",
       "      <th>buyers</th>\n",
       "      <th>revenue</th>\n",
       "      <th>group_copy</th>\n",
       "    </tr>\n",
       "    <tr>\n",
       "      <th>date</th>\n",
       "      <th>group</th>\n",
       "      <th></th>\n",
       "      <th></th>\n",
       "      <th></th>\n",
       "      <th></th>\n",
       "    </tr>\n",
       "  </thead>\n",
       "  <tbody>\n",
       "    <tr>\n",
       "      <th rowspan=\"2\" valign=\"top\">2019-08-01</th>\n",
       "      <th>A</th>\n",
       "      <td>23</td>\n",
       "      <td>19</td>\n",
       "      <td>142779</td>\n",
       "      <td>A</td>\n",
       "    </tr>\n",
       "    <tr>\n",
       "      <th>B</th>\n",
       "      <td>17</td>\n",
       "      <td>17</td>\n",
       "      <td>59758</td>\n",
       "      <td>B</td>\n",
       "    </tr>\n",
       "    <tr>\n",
       "      <th rowspan=\"2\" valign=\"top\">2019-08-02</th>\n",
       "      <th>A</th>\n",
       "      <td>19</td>\n",
       "      <td>18</td>\n",
       "      <td>91602</td>\n",
       "      <td>A</td>\n",
       "    </tr>\n",
       "    <tr>\n",
       "      <th>B</th>\n",
       "      <td>23</td>\n",
       "      <td>22</td>\n",
       "      <td>162043</td>\n",
       "      <td>B</td>\n",
       "    </tr>\n",
       "    <tr>\n",
       "      <th>2019-08-03</th>\n",
       "      <th>A</th>\n",
       "      <td>24</td>\n",
       "      <td>24</td>\n",
       "      <td>112473</td>\n",
       "      <td>A</td>\n",
       "    </tr>\n",
       "    <tr>\n",
       "      <th>...</th>\n",
       "      <th>...</th>\n",
       "      <td>...</td>\n",
       "      <td>...</td>\n",
       "      <td>...</td>\n",
       "      <td>...</td>\n",
       "    </tr>\n",
       "    <tr>\n",
       "      <th>2019-08-29</th>\n",
       "      <th>B</th>\n",
       "      <td>15</td>\n",
       "      <td>15</td>\n",
       "      <td>106100</td>\n",
       "      <td>B</td>\n",
       "    </tr>\n",
       "    <tr>\n",
       "      <th rowspan=\"2\" valign=\"top\">2019-08-30</th>\n",
       "      <th>A</th>\n",
       "      <td>9</td>\n",
       "      <td>8</td>\n",
       "      <td>78180</td>\n",
       "      <td>A</td>\n",
       "    </tr>\n",
       "    <tr>\n",
       "      <th>B</th>\n",
       "      <td>21</td>\n",
       "      <td>21</td>\n",
       "      <td>209223</td>\n",
       "      <td>B</td>\n",
       "    </tr>\n",
       "    <tr>\n",
       "      <th rowspan=\"2\" valign=\"top\">2019-08-31</th>\n",
       "      <th>A</th>\n",
       "      <td>8</td>\n",
       "      <td>8</td>\n",
       "      <td>53243</td>\n",
       "      <td>A</td>\n",
       "    </tr>\n",
       "    <tr>\n",
       "      <th>B</th>\n",
       "      <td>17</td>\n",
       "      <td>17</td>\n",
       "      <td>113139</td>\n",
       "      <td>B</td>\n",
       "    </tr>\n",
       "  </tbody>\n",
       "</table>\n",
       "<p>62 rows × 4 columns</p>\n",
       "</div>"
      ],
      "text/plain": [
       "                  orders  buyers  revenue group_copy\n",
       "date       group                                    \n",
       "2019-08-01 A          23      19   142779          A\n",
       "           B          17      17    59758          B\n",
       "2019-08-02 A          19      18    91602          A\n",
       "           B          23      22   162043          B\n",
       "2019-08-03 A          24      24   112473          A\n",
       "...                  ...     ...      ...        ...\n",
       "2019-08-29 B          15      15   106100          B\n",
       "2019-08-30 A           9       8    78180          A\n",
       "           B          21      21   209223          B\n",
       "2019-08-31 A           8       8    53243          A\n",
       "           B          17      17   113139          B\n",
       "\n",
       "[62 rows x 4 columns]"
      ]
     },
     "execution_count": 37,
     "metadata": {},
     "output_type": "execute_result"
    }
   ],
   "source": [
    "orders_group"
   ]
  },
  {
   "cell_type": "code",
   "execution_count": 38,
   "metadata": {},
   "outputs": [
    {
     "data": {
      "text/html": [
       "<div>\n",
       "<style scoped>\n",
       "    .dataframe tbody tr th:only-of-type {\n",
       "        vertical-align: middle;\n",
       "    }\n",
       "\n",
       "    .dataframe tbody tr th {\n",
       "        vertical-align: top;\n",
       "    }\n",
       "\n",
       "    .dataframe thead th {\n",
       "        text-align: right;\n",
       "    }\n",
       "</style>\n",
       "<table border=\"1\" class=\"dataframe\">\n",
       "  <thead>\n",
       "    <tr style=\"text-align: right;\">\n",
       "      <th></th>\n",
       "      <th>date</th>\n",
       "      <th>group</th>\n",
       "      <th>orders</th>\n",
       "      <th>buyers</th>\n",
       "      <th>revenue</th>\n",
       "    </tr>\n",
       "  </thead>\n",
       "  <tbody>\n",
       "    <tr>\n",
       "      <th>0</th>\n",
       "      <td>2019-08-01</td>\n",
       "      <td>A</td>\n",
       "      <td>23</td>\n",
       "      <td>19</td>\n",
       "      <td>142779</td>\n",
       "    </tr>\n",
       "    <tr>\n",
       "      <th>1</th>\n",
       "      <td>2019-08-01</td>\n",
       "      <td>B</td>\n",
       "      <td>17</td>\n",
       "      <td>17</td>\n",
       "      <td>59758</td>\n",
       "    </tr>\n",
       "    <tr>\n",
       "      <th>2</th>\n",
       "      <td>2019-08-02</td>\n",
       "      <td>A</td>\n",
       "      <td>42</td>\n",
       "      <td>37</td>\n",
       "      <td>234381</td>\n",
       "    </tr>\n",
       "    <tr>\n",
       "      <th>3</th>\n",
       "      <td>2019-08-02</td>\n",
       "      <td>B</td>\n",
       "      <td>40</td>\n",
       "      <td>39</td>\n",
       "      <td>221801</td>\n",
       "    </tr>\n",
       "    <tr>\n",
       "      <th>4</th>\n",
       "      <td>2019-08-03</td>\n",
       "      <td>A</td>\n",
       "      <td>66</td>\n",
       "      <td>61</td>\n",
       "      <td>346854</td>\n",
       "    </tr>\n",
       "    <tr>\n",
       "      <th>...</th>\n",
       "      <td>...</td>\n",
       "      <td>...</td>\n",
       "      <td>...</td>\n",
       "      <td>...</td>\n",
       "      <td>...</td>\n",
       "    </tr>\n",
       "    <tr>\n",
       "      <th>57</th>\n",
       "      <td>2019-08-29</td>\n",
       "      <td>B</td>\n",
       "      <td>510</td>\n",
       "      <td>506</td>\n",
       "      <td>4746610</td>\n",
       "    </tr>\n",
       "    <tr>\n",
       "      <th>58</th>\n",
       "      <td>2019-08-30</td>\n",
       "      <td>A</td>\n",
       "      <td>460</td>\n",
       "      <td>449</td>\n",
       "      <td>3311413</td>\n",
       "    </tr>\n",
       "    <tr>\n",
       "      <th>59</th>\n",
       "      <td>2019-08-30</td>\n",
       "      <td>B</td>\n",
       "      <td>531</td>\n",
       "      <td>527</td>\n",
       "      <td>4955833</td>\n",
       "    </tr>\n",
       "    <tr>\n",
       "      <th>60</th>\n",
       "      <td>2019-08-31</td>\n",
       "      <td>A</td>\n",
       "      <td>468</td>\n",
       "      <td>457</td>\n",
       "      <td>3364656</td>\n",
       "    </tr>\n",
       "    <tr>\n",
       "      <th>61</th>\n",
       "      <td>2019-08-31</td>\n",
       "      <td>B</td>\n",
       "      <td>548</td>\n",
       "      <td>544</td>\n",
       "      <td>5068972</td>\n",
       "    </tr>\n",
       "  </tbody>\n",
       "</table>\n",
       "<p>62 rows × 5 columns</p>\n",
       "</div>"
      ],
      "text/plain": [
       "         date group  orders  buyers  revenue\n",
       "0  2019-08-01     A      23      19   142779\n",
       "1  2019-08-01     B      17      17    59758\n",
       "2  2019-08-02     A      42      37   234381\n",
       "3  2019-08-02     B      40      39   221801\n",
       "4  2019-08-03     A      66      61   346854\n",
       "..        ...   ...     ...     ...      ...\n",
       "57 2019-08-29     B     510     506  4746610\n",
       "58 2019-08-30     A     460     449  3311413\n",
       "59 2019-08-30     B     531     527  4955833\n",
       "60 2019-08-31     A     468     457  3364656\n",
       "61 2019-08-31     B     548     544  5068972\n",
       "\n",
       "[62 rows x 5 columns]"
      ]
     },
     "execution_count": 38,
     "metadata": {},
     "output_type": "execute_result"
    }
   ],
   "source": [
    "orders_csum"
   ]
  },
  {
   "cell_type": "markdown",
   "metadata": {},
   "source": [
    "Также сгруппируем и агрегируем данные из таблицы visitors по датам и посещениям"
   ]
  },
  {
   "cell_type": "code",
   "execution_count": 39,
   "metadata": {},
   "outputs": [],
   "source": [
    "visitors_csum = visitors.groupby(['date','group'], as_index=False)\\\n",
    "                        .agg({'visitors':'sum'})\\\n",
    "                        .sort_values(['date','group'])\n",
    "\n",
    "visitors_csum['group_copy'] = visitors_csum['group']\n",
    "visitors_csum = visitors_csum.set_index(['date','group'])\\\n",
    "                             .groupby('group_copy')\\\n",
    "                             .cumsum()\\\n",
    "                             .reset_index() "
   ]
  },
  {
   "cell_type": "markdown",
   "metadata": {},
   "source": [
    "Проверим полученный результат"
   ]
  },
  {
   "cell_type": "code",
   "execution_count": 40,
   "metadata": {},
   "outputs": [
    {
     "data": {
      "text/html": [
       "<div>\n",
       "<style scoped>\n",
       "    .dataframe tbody tr th:only-of-type {\n",
       "        vertical-align: middle;\n",
       "    }\n",
       "\n",
       "    .dataframe tbody tr th {\n",
       "        vertical-align: top;\n",
       "    }\n",
       "\n",
       "    .dataframe thead th {\n",
       "        text-align: right;\n",
       "    }\n",
       "</style>\n",
       "<table border=\"1\" class=\"dataframe\">\n",
       "  <thead>\n",
       "    <tr style=\"text-align: right;\">\n",
       "      <th></th>\n",
       "      <th>date</th>\n",
       "      <th>group</th>\n",
       "      <th>visitors</th>\n",
       "    </tr>\n",
       "  </thead>\n",
       "  <tbody>\n",
       "    <tr>\n",
       "      <th>0</th>\n",
       "      <td>2019-08-01</td>\n",
       "      <td>A</td>\n",
       "      <td>719</td>\n",
       "    </tr>\n",
       "    <tr>\n",
       "      <th>1</th>\n",
       "      <td>2019-08-01</td>\n",
       "      <td>B</td>\n",
       "      <td>713</td>\n",
       "    </tr>\n",
       "    <tr>\n",
       "      <th>2</th>\n",
       "      <td>2019-08-02</td>\n",
       "      <td>A</td>\n",
       "      <td>1338</td>\n",
       "    </tr>\n",
       "    <tr>\n",
       "      <th>3</th>\n",
       "      <td>2019-08-02</td>\n",
       "      <td>B</td>\n",
       "      <td>1294</td>\n",
       "    </tr>\n",
       "    <tr>\n",
       "      <th>4</th>\n",
       "      <td>2019-08-03</td>\n",
       "      <td>A</td>\n",
       "      <td>1845</td>\n",
       "    </tr>\n",
       "    <tr>\n",
       "      <th>...</th>\n",
       "      <td>...</td>\n",
       "      <td>...</td>\n",
       "      <td>...</td>\n",
       "    </tr>\n",
       "    <tr>\n",
       "      <th>57</th>\n",
       "      <td>2019-08-29</td>\n",
       "      <td>B</td>\n",
       "      <td>17708</td>\n",
       "    </tr>\n",
       "    <tr>\n",
       "      <th>58</th>\n",
       "      <td>2019-08-30</td>\n",
       "      <td>A</td>\n",
       "      <td>18037</td>\n",
       "    </tr>\n",
       "    <tr>\n",
       "      <th>59</th>\n",
       "      <td>2019-08-30</td>\n",
       "      <td>B</td>\n",
       "      <td>18198</td>\n",
       "    </tr>\n",
       "    <tr>\n",
       "      <th>60</th>\n",
       "      <td>2019-08-31</td>\n",
       "      <td>A</td>\n",
       "      <td>18736</td>\n",
       "    </tr>\n",
       "    <tr>\n",
       "      <th>61</th>\n",
       "      <td>2019-08-31</td>\n",
       "      <td>B</td>\n",
       "      <td>18916</td>\n",
       "    </tr>\n",
       "  </tbody>\n",
       "</table>\n",
       "<p>62 rows × 3 columns</p>\n",
       "</div>"
      ],
      "text/plain": [
       "         date group  visitors\n",
       "0  2019-08-01     A       719\n",
       "1  2019-08-01     B       713\n",
       "2  2019-08-02     A      1338\n",
       "3  2019-08-02     B      1294\n",
       "4  2019-08-03     A      1845\n",
       "..        ...   ...       ...\n",
       "57 2019-08-29     B     17708\n",
       "58 2019-08-30     A     18037\n",
       "59 2019-08-30     B     18198\n",
       "60 2019-08-31     A     18736\n",
       "61 2019-08-31     B     18916\n",
       "\n",
       "[62 rows x 3 columns]"
      ]
     },
     "execution_count": 40,
     "metadata": {},
     "output_type": "execute_result"
    }
   ],
   "source": [
    "visitors_csum"
   ]
  },
  {
   "cell_type": "markdown",
   "metadata": {},
   "source": [
    "Объединим обе таблицы в одну с понятными названиями столбцов"
   ]
  },
  {
   "cell_type": "code",
   "execution_count": 41,
   "metadata": {},
   "outputs": [],
   "source": [
    "cummulative = orders_csum.join(visitors_csum[['visitors']])"
   ]
  },
  {
   "cell_type": "markdown",
   "metadata": {},
   "source": [
    "Создадим столбцец со средним чеком"
   ]
  },
  {
   "cell_type": "code",
   "execution_count": 42,
   "metadata": {},
   "outputs": [],
   "source": [
    "cummulative['average_purchase'] = cummulative['revenue'] / cummulative['orders']"
   ]
  },
  {
   "cell_type": "markdown",
   "metadata": {},
   "source": [
    "Проверим полученный результат"
   ]
  },
  {
   "cell_type": "code",
   "execution_count": 43,
   "metadata": {},
   "outputs": [
    {
     "data": {
      "text/html": [
       "<div>\n",
       "<style scoped>\n",
       "    .dataframe tbody tr th:only-of-type {\n",
       "        vertical-align: middle;\n",
       "    }\n",
       "\n",
       "    .dataframe tbody tr th {\n",
       "        vertical-align: top;\n",
       "    }\n",
       "\n",
       "    .dataframe thead th {\n",
       "        text-align: right;\n",
       "    }\n",
       "</style>\n",
       "<table border=\"1\" class=\"dataframe\">\n",
       "  <thead>\n",
       "    <tr style=\"text-align: right;\">\n",
       "      <th></th>\n",
       "      <th>date</th>\n",
       "      <th>group</th>\n",
       "      <th>orders</th>\n",
       "      <th>buyers</th>\n",
       "      <th>revenue</th>\n",
       "      <th>visitors</th>\n",
       "      <th>average_purchase</th>\n",
       "    </tr>\n",
       "  </thead>\n",
       "  <tbody>\n",
       "    <tr>\n",
       "      <th>0</th>\n",
       "      <td>2019-08-01</td>\n",
       "      <td>A</td>\n",
       "      <td>23</td>\n",
       "      <td>19</td>\n",
       "      <td>142779</td>\n",
       "      <td>719</td>\n",
       "      <td>6207.782609</td>\n",
       "    </tr>\n",
       "    <tr>\n",
       "      <th>1</th>\n",
       "      <td>2019-08-01</td>\n",
       "      <td>B</td>\n",
       "      <td>17</td>\n",
       "      <td>17</td>\n",
       "      <td>59758</td>\n",
       "      <td>713</td>\n",
       "      <td>3515.176471</td>\n",
       "    </tr>\n",
       "    <tr>\n",
       "      <th>2</th>\n",
       "      <td>2019-08-02</td>\n",
       "      <td>A</td>\n",
       "      <td>42</td>\n",
       "      <td>37</td>\n",
       "      <td>234381</td>\n",
       "      <td>1338</td>\n",
       "      <td>5580.500000</td>\n",
       "    </tr>\n",
       "    <tr>\n",
       "      <th>3</th>\n",
       "      <td>2019-08-02</td>\n",
       "      <td>B</td>\n",
       "      <td>40</td>\n",
       "      <td>39</td>\n",
       "      <td>221801</td>\n",
       "      <td>1294</td>\n",
       "      <td>5545.025000</td>\n",
       "    </tr>\n",
       "    <tr>\n",
       "      <th>4</th>\n",
       "      <td>2019-08-03</td>\n",
       "      <td>A</td>\n",
       "      <td>66</td>\n",
       "      <td>61</td>\n",
       "      <td>346854</td>\n",
       "      <td>1845</td>\n",
       "      <td>5255.363636</td>\n",
       "    </tr>\n",
       "    <tr>\n",
       "      <th>5</th>\n",
       "      <td>2019-08-03</td>\n",
       "      <td>B</td>\n",
       "      <td>54</td>\n",
       "      <td>53</td>\n",
       "      <td>288850</td>\n",
       "      <td>1803</td>\n",
       "      <td>5349.074074</td>\n",
       "    </tr>\n",
       "    <tr>\n",
       "      <th>6</th>\n",
       "      <td>2019-08-04</td>\n",
       "      <td>A</td>\n",
       "      <td>77</td>\n",
       "      <td>72</td>\n",
       "      <td>388030</td>\n",
       "      <td>2562</td>\n",
       "      <td>5039.350649</td>\n",
       "    </tr>\n",
       "    <tr>\n",
       "      <th>7</th>\n",
       "      <td>2019-08-04</td>\n",
       "      <td>B</td>\n",
       "      <td>68</td>\n",
       "      <td>66</td>\n",
       "      <td>385740</td>\n",
       "      <td>2573</td>\n",
       "      <td>5672.647059</td>\n",
       "    </tr>\n",
       "    <tr>\n",
       "      <th>8</th>\n",
       "      <td>2019-08-05</td>\n",
       "      <td>A</td>\n",
       "      <td>99</td>\n",
       "      <td>94</td>\n",
       "      <td>474413</td>\n",
       "      <td>3318</td>\n",
       "      <td>4792.050505</td>\n",
       "    </tr>\n",
       "    <tr>\n",
       "      <th>9</th>\n",
       "      <td>2019-08-05</td>\n",
       "      <td>B</td>\n",
       "      <td>89</td>\n",
       "      <td>87</td>\n",
       "      <td>475648</td>\n",
       "      <td>3280</td>\n",
       "      <td>5344.359551</td>\n",
       "    </tr>\n",
       "  </tbody>\n",
       "</table>\n",
       "</div>"
      ],
      "text/plain": [
       "        date group  orders  buyers  revenue  visitors  average_purchase\n",
       "0 2019-08-01     A      23      19   142779       719       6207.782609\n",
       "1 2019-08-01     B      17      17    59758       713       3515.176471\n",
       "2 2019-08-02     A      42      37   234381      1338       5580.500000\n",
       "3 2019-08-02     B      40      39   221801      1294       5545.025000\n",
       "4 2019-08-03     A      66      61   346854      1845       5255.363636\n",
       "5 2019-08-03     B      54      53   288850      1803       5349.074074\n",
       "6 2019-08-04     A      77      72   388030      2562       5039.350649\n",
       "7 2019-08-04     B      68      66   385740      2573       5672.647059\n",
       "8 2019-08-05     A      99      94   474413      3318       4792.050505\n",
       "9 2019-08-05     B      89      87   475648      3280       5344.359551"
      ]
     },
     "execution_count": 43,
     "metadata": {},
     "output_type": "execute_result"
    }
   ],
   "source": [
    "cummulative.head(10)"
   ]
  },
  {
   "cell_type": "markdown",
   "metadata": {},
   "source": [
    "**Вывод:** Данные сгруппированы, агрегированны. Можно приступать к построению необходимых графиков и последующему анализу и тестированию"
   ]
  },
  {
   "cell_type": "markdown",
   "metadata": {},
   "source": [
    "#### Построим график кумулятивной выручки по группам. Сделаем выводы и предположения."
   ]
  },
  {
   "cell_type": "markdown",
   "metadata": {},
   "source": [
    "Построим графики кумулятивной выручки по группам A/B-тестирования "
   ]
  },
  {
   "cell_type": "code",
   "execution_count": 44,
   "metadata": {},
   "outputs": [
    {
     "data": {
      "image/png": "[encoded data removed]",
      "text/plain": [
       "<Figure size 1200x600 with 1 Axes>"
      ]
     },
     "metadata": {},
     "output_type": "display_data"
    }
   ],
   "source": [
    "cummulativeA = cummulative[cummulative['group']=='A'][['date','revenue']]\n",
    "cummulativeB = cummulative[cummulative['group']=='B'][['date','revenue']]\n",
    "plt.figure(figsize=(12,6))\n",
    "plt.plot(cummulativeA['date'], cummulativeA['revenue'], label='A')\n",
    "plt.plot(cummulativeB['date'], cummulativeB['revenue'], label='B')\n",
    "plt.title('Кумулятивная выручка по группам')\n",
    "plt.ylabel(\"Выручка\")\n",
    "plt.xlabel(\"Дата\")\n",
    "plt.xticks(rotation=45)\n",
    "plt.legend()\n",
    "plt.grid(axis='y', alpha=.3)\n",
    "plt.grid(axis='x', alpha=.3)\n",
    "plt.show()"
   ]
  },
  {
   "cell_type": "markdown",
   "metadata": {},
   "source": [
    "**Выводы и наблюдения:**\n",
    "\n",
    "Судя по графику кумулятивная выручка в группе А растет линейно и равноемерно, а кумулятивная выручка в группе В тоже растет, но есть на графике резкий скачок выручки после 17.08.2019 года возможно мы наблюдаем выбросы в данных. Это может также сигнализировать о всплесках числа заказов, либо о появлении очень дорогих заказов в выборке. "
   ]
  },
  {
   "cell_type": "markdown",
   "metadata": {},
   "source": [
    "#### Построим график кумулятивного среднего чека по группам. Сделаем выводы и предположения."
   ]
  },
  {
   "cell_type": "markdown",
   "metadata": {},
   "source": [
    "Построим график кумулятивного среднего чека по группам"
   ]
  },
  {
   "cell_type": "code",
   "execution_count": 45,
   "metadata": {},
   "outputs": [
    {
     "data": {
      "image/png": "[encoded data removed]",
      "text/plain": [
       "<Figure size 1200x600 with 1 Axes>"
      ]
     },
     "metadata": {},
     "output_type": "display_data"
    }
   ],
   "source": [
    "cummulativeA = cummulative[cummulative['group']=='A'][['date','average_purchase']]\n",
    "cummulativeB = cummulative[cummulative['group']=='B'][['date','average_purchase']]\n",
    "plt.figure(figsize=(12,6))\n",
    "plt.plot(cummulativeA['date'], cummulativeA['average_purchase'], label='A')\n",
    "plt.plot(cummulativeB['date'], cummulativeB['average_purchase'], label='B')\n",
    "plt.title('Кумулятивный средний чек по группам')\n",
    "plt.ylabel(\"Средний чек\")\n",
    "plt.xlabel(\"Дата\")\n",
    "plt.xticks(rotation=45)\n",
    "plt.legend()\n",
    "plt.grid(axis='y', alpha=.3)\n",
    "plt.grid(axis='x', alpha=.3)\n",
    "plt.show()"
   ]
  },
  {
   "cell_type": "markdown",
   "metadata": {},
   "source": [
    "**Выводы и наблюдения:**\n",
    "\n",
    "Судя по графику средний чек у группы А изначально имел падение и самое низкое значение имел после 5.08.2019 далее наблюдается рост и пиковое значение 13.08.2019 затем показания стабильные и виднеется небольшой рост среднего чека.\n",
    "По группе В видно, что средний чек плавает, то постепенно растет, то немного падает вплоть до значений после 17.08.2019. После этой даты мы наблюдаем аномальный скачок и резкий рост среднего чека до максимального значения (как и на предыдущем графике выручки по группам), затем постепенное ослабление.\n",
    "\n",
    "Средний чек тоже становится равномерным ближе к концу теста: установился для группы A и продолжает падать для группы B. Возможно, в группу B во время теста попали крупные заказы (резкий всплеск на графике). Тогда ей нужно больше данных, чтобы прийти к реальному среднему чеку и установиться на его уровне."
   ]
  },
  {
   "cell_type": "markdown",
   "metadata": {},
   "source": [
    "#### Построим график относительного изменения кумулятивного среднего чека группы B к группе A. Сделаем выводы и предположения."
   ]
  },
  {
   "cell_type": "markdown",
   "metadata": {},
   "source": [
    "Построим график относительного изменения кумулятивного среднего чека группы B к группе A"
   ]
  },
  {
   "cell_type": "code",
   "execution_count": 46,
   "metadata": {},
   "outputs": [
    {
     "data": {
      "image/png": "[encoded data removed]",
      "text/plain": [
       "<Figure size 1100x600 with 1 Axes>"
      ]
     },
     "metadata": {},
     "output_type": "display_data"
    }
   ],
   "source": [
    "temp = (cummulativeA[['date', 'average_purchase']].merge(cummulativeB[['date','average_purchase']],\\\n",
    "                                                   left_on='date',\\\n",
    "                                                   right_on='date',\\\n",
    "                                                   how='left',\\\n",
    "                                                   suffixes=['_A','_B']))\n",
    "plt.figure(figsize=(11,6))\n",
    "plt.plot(temp['date'], temp['average_purchase_B'] / temp['average_purchase_A']-1)\n",
    "plt.title('Относительное изменение кумулятивного среднего чека группы B к группе A')\n",
    "plt.axhline(y=0, color='red', linestyle='-')\n",
    "plt.ylabel(\"Относительное изменение\")\n",
    "plt.xlabel(\"Дата\")\n",
    "plt.xticks(rotation=45)\n",
    "plt.grid(axis='y', alpha=.3)\n",
    "plt.grid(axis='x', alpha=.3)\n",
    "plt.show()"
   ]
  },
  {
   "cell_type": "markdown",
   "metadata": {},
   "source": [
    "**Выводы и предположения:**\n",
    "\n",
    "В нескольких точках график различия между сегментами резко «скачет». Где-то уж точно спрятались крупные заказы и выбросы."
   ]
  },
  {
   "cell_type": "markdown",
   "metadata": {},
   "source": [
    "#### Построим график кумулятивного среднего количества заказов на посетителя по группам. Сделаем выводы и предположения."
   ]
  },
  {
   "cell_type": "markdown",
   "metadata": {},
   "source": [
    "Построим график кумулятивного среднего количества заказов на посетителя по группам"
   ]
  },
  {
   "cell_type": "code",
   "execution_count": 47,
   "metadata": {},
   "outputs": [
    {
     "data": {
      "image/png": "[encoded data removed]",
      "text/plain": [
       "<Figure size 1200x600 with 1 Axes>"
      ]
     },
     "metadata": {},
     "output_type": "display_data"
    }
   ],
   "source": [
    "cummulativeA = cummulative[cummulative['group']=='A'][['date', 'orders']]\n",
    "cummulativeB = cummulative[cummulative['group']=='B'][['date', 'orders']]\n",
    "plt.figure(figsize=(12,6))\n",
    "plt.plot(cummulativeA['date'], cummulativeA['orders'], label='A')\n",
    "plt.plot(cummulativeB['date'], cummulativeB['orders'], label='B')\n",
    "plt.title('Кумулятивное среднее количество заказов на посетителя по группам')\n",
    "plt.ylabel(\"Среднее количество\")\n",
    "plt.xlabel(\"Дата\")\n",
    "plt.xticks(rotation=45)\n",
    "plt.legend()\n",
    "plt.grid(axis='y', alpha=.3)\n",
    "plt.grid(axis='x', alpha=.3)\n",
    "plt.show()"
   ]
  },
  {
   "cell_type": "markdown",
   "metadata": {},
   "source": [
    "**Выводы и предположения:**\n",
    "\n",
    "Судя по графику кумулятивное среднее количество заказов на посетителя в обоих группах линейно и равномерно растет изо дня в день. Аномальных значений на графике не имеется. Лидирует группа В."
   ]
  },
  {
   "cell_type": "markdown",
   "metadata": {},
   "source": [
    "#### Построим график относительного изменения кумулятивного среднего количества заказов на посетителя группы B к группе A. Сделаем выводы и предположения."
   ]
  },
  {
   "cell_type": "markdown",
   "metadata": {},
   "source": [
    "Построим график относительного изменения кумулятивного среднего количества заказов на посетителя группы B к группе A"
   ]
  },
  {
   "cell_type": "code",
   "execution_count": 48,
   "metadata": {},
   "outputs": [
    {
     "data": {
      "image/png": "[encoded data removed]",
      "text/plain": [
       "<Figure size 1200x600 with 1 Axes>"
      ]
     },
     "metadata": {},
     "output_type": "display_data"
    }
   ],
   "source": [
    "temp2 = (cummulativeA[['date', 'orders']].merge(cummulativeB[['date', 'orders']],\\\n",
    "                                              left_on='date',\\\n",
    "                                              right_on='date',\\\n",
    "                                              how='left',\\\n",
    "                                              suffixes=['_A', '_B']))\n",
    "plt.figure(figsize=(12,6))\n",
    "plt.plot(temp2['date'], temp2['orders_B'] / temp2['orders_A']-1)\n",
    "plt.title('Относительное изменение кумулятивного среднего количества заказов на посетителя группы B к группе A')\n",
    "plt.axhline(y=0, color='red', linestyle='-')\n",
    "plt.xticks(rotation=45)\n",
    "plt.ylabel(\"Относительное изменение\")\n",
    "plt.xlabel(\"Дата\")\n",
    "plt.grid(axis='y', alpha=.3)\n",
    "plt.grid(axis='x', alpha=.3)\n",
    "plt.show()"
   ]
  },
  {
   "cell_type": "markdown",
   "metadata": {},
   "source": [
    "**Выводы и предположения:**\n",
    "\n",
    "На графике мы отчетливо наблюдаем в начале исследования небольшой скачок и резкое падение, но затем мы наблюдаеи уверенный рост и выравнивание стабильности значений в отностительном изменении кумулятивного среднего количества заказов на постетителя группы В к группе А. В конце виднеется небольшой спад"
   ]
  },
  {
   "cell_type": "markdown",
   "metadata": {},
   "source": [
    "#### Построим точечный график количества заказов по пользователям. Сделаем выводы и предположения."
   ]
  },
  {
   "cell_type": "markdown",
   "metadata": {},
   "source": [
    "Сначала сгруппируем данные из таблицы orders по пользователям"
   ]
  },
  {
   "cell_type": "code",
   "execution_count": 49,
   "metadata": {},
   "outputs": [],
   "source": [
    "orders_user = orders.groupby('visitor_id', as_index=False)\\\n",
    "                    .agg({'transaction_id':'nunique'})\\\n",
    "                    .rename(columns={'transaction_id':'orders'})"
   ]
  },
  {
   "cell_type": "markdown",
   "metadata": {},
   "source": [
    "Проверим полученный результат"
   ]
  },
  {
   "cell_type": "code",
   "execution_count": 50,
   "metadata": {},
   "outputs": [
    {
     "data": {
      "text/html": [
       "<div>\n",
       "<style scoped>\n",
       "    .dataframe tbody tr th:only-of-type {\n",
       "        vertical-align: middle;\n",
       "    }\n",
       "\n",
       "    .dataframe tbody tr th {\n",
       "        vertical-align: top;\n",
       "    }\n",
       "\n",
       "    .dataframe thead th {\n",
       "        text-align: right;\n",
       "    }\n",
       "</style>\n",
       "<table border=\"1\" class=\"dataframe\">\n",
       "  <thead>\n",
       "    <tr style=\"text-align: right;\">\n",
       "      <th></th>\n",
       "      <th>visitor_id</th>\n",
       "      <th>orders</th>\n",
       "    </tr>\n",
       "  </thead>\n",
       "  <tbody>\n",
       "    <tr>\n",
       "      <th>963</th>\n",
       "      <td>4237561104</td>\n",
       "      <td>1</td>\n",
       "    </tr>\n",
       "    <tr>\n",
       "      <th>964</th>\n",
       "      <td>4243832526</td>\n",
       "      <td>1</td>\n",
       "    </tr>\n",
       "    <tr>\n",
       "      <th>965</th>\n",
       "      <td>4251087345</td>\n",
       "      <td>1</td>\n",
       "    </tr>\n",
       "    <tr>\n",
       "      <th>966</th>\n",
       "      <td>4251115836</td>\n",
       "      <td>1</td>\n",
       "    </tr>\n",
       "    <tr>\n",
       "      <th>967</th>\n",
       "      <td>4258103007</td>\n",
       "      <td>1</td>\n",
       "    </tr>\n",
       "    <tr>\n",
       "      <th>968</th>\n",
       "      <td>4259830713</td>\n",
       "      <td>1</td>\n",
       "    </tr>\n",
       "    <tr>\n",
       "      <th>969</th>\n",
       "      <td>4278982564</td>\n",
       "      <td>1</td>\n",
       "    </tr>\n",
       "    <tr>\n",
       "      <th>970</th>\n",
       "      <td>4279090005</td>\n",
       "      <td>1</td>\n",
       "    </tr>\n",
       "    <tr>\n",
       "      <th>971</th>\n",
       "      <td>4281247801</td>\n",
       "      <td>1</td>\n",
       "    </tr>\n",
       "    <tr>\n",
       "      <th>972</th>\n",
       "      <td>4283872382</td>\n",
       "      <td>1</td>\n",
       "    </tr>\n",
       "  </tbody>\n",
       "</table>\n",
       "</div>"
      ],
      "text/plain": [
       "     visitor_id  orders\n",
       "963  4237561104       1\n",
       "964  4243832526       1\n",
       "965  4251087345       1\n",
       "966  4251115836       1\n",
       "967  4258103007       1\n",
       "968  4259830713       1\n",
       "969  4278982564       1\n",
       "970  4279090005       1\n",
       "971  4281247801       1\n",
       "972  4283872382       1"
      ]
     },
     "execution_count": 50,
     "metadata": {},
     "output_type": "execute_result"
    }
   ],
   "source": [
    "orders_user.tail(10)"
   ]
  },
  {
   "cell_type": "markdown",
   "metadata": {},
   "source": [
    "Построим точечный график количества заказов по пользователям"
   ]
  },
  {
   "cell_type": "code",
   "execution_count": 51,
   "metadata": {},
   "outputs": [
    {
     "data": {
      "image/png": "[encoded data removed]",
      "text/plain": [
       "<Figure size 1200x600 with 1 Axes>"
      ]
     },
     "metadata": {},
     "output_type": "display_data"
    }
   ],
   "source": [
    "x_values = pd.Series(range(0,len(orders_user['orders'])))\n",
    "plt.figure(figsize=(12,6))\n",
    "plt.scatter(x_values, orders_user['orders'], color='green',alpha=0.6)\n",
    "plt.title('График количества заказов по пользователям')\n",
    "plt.xlabel('Количество пользователей')\n",
    "plt.ylabel('Количество заказов') \n",
    "plt.show()"
   ]
  },
  {
   "cell_type": "markdown",
   "metadata": {},
   "source": [
    "**Выводы и предположения:**\n",
    "\n",
    "На точечной диаграмме рассеивания видно, что большинство пользователей совершает 1 покупку за весь период теста. Хотя также присутствует небольшое количество пользователей которые совершают 2 и более покупок, но их количество значительно меньше тех, кто совершает 1 покупку. А так же наблюдаются редкие выбросы с количеством покупок более 4 - такие значение встречаются крайне редко, поэтому их можно считать аномальными выбросами."
   ]
  },
  {
   "cell_type": "markdown",
   "metadata": {},
   "source": [
    "#### Посчитаем 95-й и 99-й перцентили количества заказов на пользователя. Выберем границу для определения аномальных пользователей."
   ]
  },
  {
   "cell_type": "markdown",
   "metadata": {},
   "source": [
    "Посчитаем 95-й и 99-й перцентили количества заказов на пользователя"
   ]
  },
  {
   "cell_type": "code",
   "execution_count": 52,
   "metadata": {},
   "outputs": [
    {
     "name": "stdout",
     "output_type": "stream",
     "text": [
      "95 перцентиль: 1.00\n",
      "99 перцентиль: 2.00\n"
     ]
    }
   ],
   "source": [
    "print('95 перцентиль: %.2f' % (np.percentile(orders_user['orders'], [95])))\n",
    "print('99 перцентиль: %.2f' % (np.percentile(orders_user['orders'], [99])))"
   ]
  },
  {
   "cell_type": "markdown",
   "metadata": {},
   "source": [
    "Выберем границу для определения аномальных пользователей:\n",
    "\n",
    "- Так как 95 процентов пользователей совершают 1 покупку, то считаю логичным считать верхней границей количества покупок для каждого пользователя - 2 покупки. Всё что больше 2 покупок можно считать выбросами и не учитывать в дальнейшем анализе.Все значения за пределами 99 процентиля являются аномальными."
   ]
  },
  {
   "cell_type": "markdown",
   "metadata": {},
   "source": [
    "#### Построим точечный график стоимостей заказов. Сделаем выводы и предположения."
   ]
  },
  {
   "cell_type": "markdown",
   "metadata": {},
   "source": [
    "Построим точечный график стоимостей заказов"
   ]
  },
  {
   "cell_type": "code",
   "execution_count": 53,
   "metadata": {},
   "outputs": [
    {
     "data": {
      "image/png": "[encoded data removed]",
      "text/plain": [
       "<Figure size 1200x600 with 1 Axes>"
      ]
     },
     "metadata": {},
     "output_type": "display_data"
    }
   ],
   "source": [
    "x_values = pd.Series(range(0,len(orders['revenue'])))\n",
    "plt.figure(figsize=(12,6))      \n",
    "plt.title('График стоимости заказов')\n",
    "plt.scatter(x_values, y=orders['revenue'], color='brown', alpha=0.4)\n",
    "plt.xlabel('Количество заказов') \n",
    "plt.ylabel('Стоимость')          \n",
    "plt.show()                       "
   ]
  },
  {
   "cell_type": "code",
   "execution_count": 54,
   "metadata": {},
   "outputs": [
    {
     "data": {
      "text/plain": [
       "count    1.016000e+03\n",
       "mean     8.300815e+03\n",
       "std      4.212199e+04\n",
       "min      5.000000e+01\n",
       "25%      1.190000e+03\n",
       "50%      2.955000e+03\n",
       "75%      8.134250e+03\n",
       "max      1.294500e+06\n",
       "Name: revenue, dtype: float64"
      ]
     },
     "execution_count": 54,
     "metadata": {},
     "output_type": "execute_result"
    }
   ],
   "source": [
    "orders['revenue'].describe()"
   ]
  },
  {
   "cell_type": "markdown",
   "metadata": {},
   "source": [
    "Вероятно на этом графике 2 выброса и есть причина скачков в группе В. Максимальная стоимость заказа - 1.29 млн? Из-за этого скачка по масштабу графика границы аномалий очертить сложно."
   ]
  },
  {
   "cell_type": "markdown",
   "metadata": {},
   "source": [
    "Посмторим поближе на этот график. Границы оси Y ограничены до 50000"
   ]
  },
  {
   "cell_type": "code",
   "execution_count": 55,
   "metadata": {},
   "outputs": [
    {
     "data": {
      "image/png": "[encoded data removed]",
      "text/plain": [
       "<Figure size 1200x600 with 1 Axes>"
      ]
     },
     "metadata": {},
     "output_type": "display_data"
    }
   ],
   "source": [
    "plt.figure(figsize=(12,6))       \n",
    "plt.title('График стоимости заказов')\n",
    "plt.scatter(x_values, y=orders['revenue'], color='brown', alpha=0.4)\n",
    "plt.ylim(0, 50000)\n",
    "plt.xlabel('Количество заказов') \n",
    "plt.ylabel('Стоимость')          \n",
    "plt.show()                       "
   ]
  },
  {
   "cell_type": "markdown",
   "metadata": {},
   "source": [
    "**Выводы и предположения:**\n",
    "\n",
    "На точечной диаграмме рассеивания чётко видно, что большая часть заказов имеет стоимость менее 20000 рублей. Значения которые превышают отметку 30000 рублей встречаются крайне редко. Также имеются выбросы превышающие 100000 рублей."
   ]
  },
  {
   "cell_type": "markdown",
   "metadata": {},
   "source": [
    "#### Посчитаем 95-й и 99-й перцентили стоимости заказов. Выберем границу для определения аномальных заказов."
   ]
  },
  {
   "cell_type": "markdown",
   "metadata": {},
   "source": [
    "Посчитаем 95-й и 99-й перцентили стоимости заказов"
   ]
  },
  {
   "cell_type": "code",
   "execution_count": 56,
   "metadata": {},
   "outputs": [
    {
     "name": "stdout",
     "output_type": "stream",
     "text": [
      "95 перцентиль: 26785.00\n",
      "99 перцентиль: 53904.00\n"
     ]
    }
   ],
   "source": [
    "print('95 перцентиль: %.2f' % (np.percentile(orders['revenue'], [95])))\n",
    "print('99 перцентиль: %.2f' % (np.percentile(orders['revenue'], [99])))"
   ]
  },
  {
   "cell_type": "markdown",
   "metadata": {},
   "source": [
    "Выберем границу для определения аномальных заказов:\n",
    "\n",
    "- Стоимость заказа равную 26785 рублей, что составляет 5% от общего количества заказов. Таким образом верхней границей для определения аномальных значений я выбираю 53904 рублей. Все заказы стоимость которых превышает данное значение не будут учитываться в тесте.Все что за пределами 99 процентиля - является аномальными значениями"
   ]
  },
  {
   "cell_type": "markdown",
   "metadata": {},
   "source": [
    "#### Посчитаем статистическую значимость различий в среднем количестве заказов на посетителя между группами по «сырым» данным. Сделаем выводы и предположения."
   ]
  },
  {
   "cell_type": "markdown",
   "metadata": {},
   "source": [
    "Посчитаем статистическую значимость различий в среднем количестве заказов на посетителя между группами по «сырым» данным"
   ]
  },
  {
   "cell_type": "markdown",
   "metadata": {},
   "source": [
    "Применим критерий Манна-Уитни и проверим гипотезы:\n",
    "\n",
    "Н0: Различий в среднем количестве заказов между группами нет.\n",
    "\n",
    "H1: Различия в среднем между группами есть."
   ]
  },
  {
   "cell_type": "markdown",
   "metadata": {},
   "source": [
    "Начнём с подготовки данных"
   ]
  },
  {
   "cell_type": "markdown",
   "metadata": {},
   "source": [
    "Для расчёта значений статистической значимости для каждой группы теста необходимо подготовить сводную таблицу в которой будут следующая информация:\n",
    "\n",
    "- date — дата\n",
    "- ordersPerDateA — количество заказов в выбранную дату в группе A\n",
    "- revenuePerDateA — суммарная выручка в выбранную дату в группе A\n",
    "- ordersPerDateB — количество заказов в выбранную дату в группе B\n",
    "- revenuePerDateB — суммарная выручка в выбранную дату в группе B\n",
    "- ordersCummulativeA — суммарное число заказов до выбранной даты включительно в группе A\n",
    "- revenueCummulativeA — суммарная выручка до выбранной даты включительно в группе A\n",
    "- ordersCummulativeB — суммарное количество заказов до выбранной даты включительно в группе B\n",
    "- revenueCummulativeB — суммарная выручка до выбранной даты включительно в группе B\n",
    "- visitorsPerDateA — количество пользователей в выбранную дату в группе A\n",
    "- visitorsPerDateB — количество пользователей в выбранную дату в группе B\n",
    "- visitorsCummulativeA — количество пользователей до выбранной даты включительно в группе A\n",
    "- visitorsCummulativeB — количество пользователей до выбранной даты включительно в группе B"
   ]
  },
  {
   "cell_type": "code",
   "execution_count": 57,
   "metadata": {},
   "outputs": [
    {
     "data": {
      "text/html": [
       "<div>\n",
       "<style scoped>\n",
       "    .dataframe tbody tr th:only-of-type {\n",
       "        vertical-align: middle;\n",
       "    }\n",
       "\n",
       "    .dataframe tbody tr th {\n",
       "        vertical-align: top;\n",
       "    }\n",
       "\n",
       "    .dataframe thead th {\n",
       "        text-align: right;\n",
       "    }\n",
       "</style>\n",
       "<table border=\"1\" class=\"dataframe\">\n",
       "  <thead>\n",
       "    <tr style=\"text-align: right;\">\n",
       "      <th></th>\n",
       "      <th>date</th>\n",
       "      <th>ordersPerDateA</th>\n",
       "      <th>revenuePerDateA</th>\n",
       "      <th>ordersPerDateB</th>\n",
       "      <th>revenuePerDateB</th>\n",
       "      <th>ordersCummulativeA</th>\n",
       "      <th>revenueCummulativeA</th>\n",
       "      <th>ordersCummulativeB</th>\n",
       "      <th>revenueCummulativeB</th>\n",
       "      <th>visitorsPerDateA</th>\n",
       "      <th>visitorsPerDateB</th>\n",
       "      <th>visitorsCummulativeA</th>\n",
       "      <th>visitorsCummulativeB</th>\n",
       "    </tr>\n",
       "  </thead>\n",
       "  <tbody>\n",
       "    <tr>\n",
       "      <th>0</th>\n",
       "      <td>2019-08-01</td>\n",
       "      <td>23</td>\n",
       "      <td>142779</td>\n",
       "      <td>17</td>\n",
       "      <td>59758</td>\n",
       "      <td>23</td>\n",
       "      <td>142779</td>\n",
       "      <td>17</td>\n",
       "      <td>59758</td>\n",
       "      <td>719</td>\n",
       "      <td>713</td>\n",
       "      <td>719</td>\n",
       "      <td>713</td>\n",
       "    </tr>\n",
       "    <tr>\n",
       "      <th>1</th>\n",
       "      <td>2019-08-02</td>\n",
       "      <td>19</td>\n",
       "      <td>91602</td>\n",
       "      <td>23</td>\n",
       "      <td>162043</td>\n",
       "      <td>42</td>\n",
       "      <td>234381</td>\n",
       "      <td>40</td>\n",
       "      <td>221801</td>\n",
       "      <td>619</td>\n",
       "      <td>581</td>\n",
       "      <td>1338</td>\n",
       "      <td>1294</td>\n",
       "    </tr>\n",
       "    <tr>\n",
       "      <th>2</th>\n",
       "      <td>2019-08-03</td>\n",
       "      <td>24</td>\n",
       "      <td>112473</td>\n",
       "      <td>14</td>\n",
       "      <td>67049</td>\n",
       "      <td>66</td>\n",
       "      <td>346854</td>\n",
       "      <td>54</td>\n",
       "      <td>288850</td>\n",
       "      <td>507</td>\n",
       "      <td>509</td>\n",
       "      <td>1845</td>\n",
       "      <td>1803</td>\n",
       "    </tr>\n",
       "    <tr>\n",
       "      <th>3</th>\n",
       "      <td>2019-08-04</td>\n",
       "      <td>11</td>\n",
       "      <td>41176</td>\n",
       "      <td>14</td>\n",
       "      <td>96890</td>\n",
       "      <td>77</td>\n",
       "      <td>388030</td>\n",
       "      <td>68</td>\n",
       "      <td>385740</td>\n",
       "      <td>717</td>\n",
       "      <td>770</td>\n",
       "      <td>2562</td>\n",
       "      <td>2573</td>\n",
       "    </tr>\n",
       "    <tr>\n",
       "      <th>4</th>\n",
       "      <td>2019-08-05</td>\n",
       "      <td>22</td>\n",
       "      <td>86383</td>\n",
       "      <td>21</td>\n",
       "      <td>89908</td>\n",
       "      <td>99</td>\n",
       "      <td>474413</td>\n",
       "      <td>89</td>\n",
       "      <td>475648</td>\n",
       "      <td>756</td>\n",
       "      <td>707</td>\n",
       "      <td>3318</td>\n",
       "      <td>3280</td>\n",
       "    </tr>\n",
       "    <tr>\n",
       "      <th>5</th>\n",
       "      <td>2019-08-06</td>\n",
       "      <td>15</td>\n",
       "      <td>40919</td>\n",
       "      <td>23</td>\n",
       "      <td>214842</td>\n",
       "      <td>114</td>\n",
       "      <td>515332</td>\n",
       "      <td>112</td>\n",
       "      <td>690490</td>\n",
       "      <td>667</td>\n",
       "      <td>655</td>\n",
       "      <td>3985</td>\n",
       "      <td>3935</td>\n",
       "    </tr>\n",
       "    <tr>\n",
       "      <th>6</th>\n",
       "      <td>2019-08-07</td>\n",
       "      <td>16</td>\n",
       "      <td>123248</td>\n",
       "      <td>23</td>\n",
       "      <td>219164</td>\n",
       "      <td>130</td>\n",
       "      <td>638580</td>\n",
       "      <td>135</td>\n",
       "      <td>909654</td>\n",
       "      <td>644</td>\n",
       "      <td>709</td>\n",
       "      <td>4629</td>\n",
       "      <td>4644</td>\n",
       "    </tr>\n",
       "    <tr>\n",
       "      <th>7</th>\n",
       "      <td>2019-08-08</td>\n",
       "      <td>14</td>\n",
       "      <td>88639</td>\n",
       "      <td>22</td>\n",
       "      <td>150141</td>\n",
       "      <td>144</td>\n",
       "      <td>727219</td>\n",
       "      <td>157</td>\n",
       "      <td>1059795</td>\n",
       "      <td>610</td>\n",
       "      <td>654</td>\n",
       "      <td>5239</td>\n",
       "      <td>5298</td>\n",
       "    </tr>\n",
       "    <tr>\n",
       "      <th>8</th>\n",
       "      <td>2019-08-09</td>\n",
       "      <td>11</td>\n",
       "      <td>134237</td>\n",
       "      <td>19</td>\n",
       "      <td>103166</td>\n",
       "      <td>155</td>\n",
       "      <td>861456</td>\n",
       "      <td>176</td>\n",
       "      <td>1162961</td>\n",
       "      <td>617</td>\n",
       "      <td>610</td>\n",
       "      <td>5856</td>\n",
       "      <td>5908</td>\n",
       "    </tr>\n",
       "    <tr>\n",
       "      <th>9</th>\n",
       "      <td>2019-08-10</td>\n",
       "      <td>15</td>\n",
       "      <td>152275</td>\n",
       "      <td>22</td>\n",
       "      <td>105162</td>\n",
       "      <td>170</td>\n",
       "      <td>1013731</td>\n",
       "      <td>198</td>\n",
       "      <td>1268123</td>\n",
       "      <td>406</td>\n",
       "      <td>369</td>\n",
       "      <td>6262</td>\n",
       "      <td>6277</td>\n",
       "    </tr>\n",
       "  </tbody>\n",
       "</table>\n",
       "</div>"
      ],
      "text/plain": [
       "        date  ordersPerDateA  revenuePerDateA  ordersPerDateB  \\\n",
       "0 2019-08-01              23           142779              17   \n",
       "1 2019-08-02              19            91602              23   \n",
       "2 2019-08-03              24           112473              14   \n",
       "3 2019-08-04              11            41176              14   \n",
       "4 2019-08-05              22            86383              21   \n",
       "5 2019-08-06              15            40919              23   \n",
       "6 2019-08-07              16           123248              23   \n",
       "7 2019-08-08              14            88639              22   \n",
       "8 2019-08-09              11           134237              19   \n",
       "9 2019-08-10              15           152275              22   \n",
       "\n",
       "   revenuePerDateB  ordersCummulativeA  revenueCummulativeA  \\\n",
       "0            59758                  23               142779   \n",
       "1           162043                  42               234381   \n",
       "2            67049                  66               346854   \n",
       "3            96890                  77               388030   \n",
       "4            89908                  99               474413   \n",
       "5           214842                 114               515332   \n",
       "6           219164                 130               638580   \n",
       "7           150141                 144               727219   \n",
       "8           103166                 155               861456   \n",
       "9           105162                 170              1013731   \n",
       "\n",
       "   ordersCummulativeB  revenueCummulativeB  visitorsPerDateA  \\\n",
       "0                  17                59758               719   \n",
       "1                  40               221801               619   \n",
       "2                  54               288850               507   \n",
       "3                  68               385740               717   \n",
       "4                  89               475648               756   \n",
       "5                 112               690490               667   \n",
       "6                 135               909654               644   \n",
       "7                 157              1059795               610   \n",
       "8                 176              1162961               617   \n",
       "9                 198              1268123               406   \n",
       "\n",
       "   visitorsPerDateB  visitorsCummulativeA  visitorsCummulativeB  \n",
       "0               713                   719                   713  \n",
       "1               581                  1338                  1294  \n",
       "2               509                  1845                  1803  \n",
       "3               770                  2562                  2573  \n",
       "4               707                  3318                  3280  \n",
       "5               655                  3985                  3935  \n",
       "6               709                  4629                  4644  \n",
       "7               654                  5239                  5298  \n",
       "8               610                  5856                  5908  \n",
       "9               369                  6262                  6277  "
      ]
     },
     "execution_count": 57,
     "metadata": {},
     "output_type": "execute_result"
    }
   ],
   "source": [
    "visitorsADaily = visitors[visitors['group'] == 'A'][['date', 'visitors']]\n",
    "visitorsADaily.columns = ['date', 'visitorsPerDateA']\n",
    "\n",
    "visitorsACummulative = visitorsADaily.apply(\n",
    "    lambda x: visitorsADaily[visitorsADaily['date'] <= x['date']].agg(\n",
    "        {'date': 'max', 'visitorsPerDateA': 'sum'}\n",
    "    ),\n",
    "    axis=1,\n",
    ")\n",
    "visitorsACummulative.columns = ['date', 'visitorsCummulativeA']\n",
    "\n",
    "visitorsBDaily = visitors[visitors['group'] == 'B'][['date', 'visitors']]\n",
    "visitorsBDaily.columns = ['date', 'visitorsPerDateB']\n",
    "\n",
    "visitorsBCummulative = visitorsBDaily.apply(\n",
    "    lambda x: visitorsBDaily[visitorsBDaily['date'] <= x['date']].agg(\n",
    "        {'date': 'max', 'visitorsPerDateB': 'sum'}\n",
    "    ),\n",
    "    axis=1,\n",
    ")\n",
    "visitorsBCummulative.columns = ['date', 'visitorsCummulativeB']\n",
    "\n",
    "ordersADaily = (\n",
    "    orders[orders['group'] == 'A'][['date', 'transaction_id', 'visitor_id', 'revenue']]\n",
    "    .groupby('date', as_index=False)\n",
    "    .agg({'transaction_id': pd.Series.nunique, 'revenue': 'sum'})\n",
    ")\n",
    "ordersADaily.columns = ['date', 'ordersPerDateA', 'revenuePerDateA']\n",
    "\n",
    "ordersACummulative = ordersADaily.apply(\n",
    "    lambda x: ordersADaily[ordersADaily['date'] <= x['date']].agg(\n",
    "        {'date': 'max', 'ordersPerDateA': 'sum', 'revenuePerDateA': 'sum'}\n",
    "    ),\n",
    "    axis=1,\n",
    ").sort_values(by=['date'])\n",
    "ordersACummulative.columns = [\n",
    "    'date',\n",
    "    'ordersCummulativeA',\n",
    "    'revenueCummulativeA',\n",
    "]\n",
    "\n",
    "ordersBDaily = (\n",
    "    orders[orders['group'] == 'B'][['date', 'transaction_id', 'visitor_id', 'revenue']]\n",
    "    .groupby('date', as_index=False)\n",
    "    .agg({'transaction_id': pd.Series.nunique, 'revenue': 'sum'})\n",
    ")\n",
    "\n",
    "ordersBDaily.columns = ['date', 'ordersPerDateB', 'revenuePerDateB']\n",
    "\n",
    "ordersBCummulative = ordersBDaily.apply(\n",
    "    lambda x: ordersBDaily[ordersBDaily['date'] <= x['date']].agg(\n",
    "        {'date': 'max', 'ordersPerDateB': 'sum', 'revenuePerDateB': 'sum'}\n",
    "    ),\n",
    "    axis=1,\n",
    ").sort_values(by=['date'])\n",
    "ordersBCummulative.columns = [\n",
    "    'date',\n",
    "    'ordersCummulativeB',\n",
    "    'revenueCummulativeB',\n",
    "]\n",
    "\n",
    "data = (\n",
    "    ordersADaily.merge(\n",
    "        ordersBDaily, left_on='date', right_on='date', how='left'\n",
    "    )\n",
    "    .merge(ordersACummulative, left_on='date', right_on='date', how='left')\n",
    "    .merge(ordersBCummulative, left_on='date', right_on='date', how='left')\n",
    "    .merge(visitorsADaily, left_on='date', right_on='date', how='left')\n",
    "    .merge(visitorsBDaily, left_on='date', right_on='date', how='left')\n",
    "    .merge(visitorsACummulative, left_on='date', right_on='date', how='left')\n",
    "    .merge(visitorsBCummulative, left_on='date', right_on='date', how='left')\n",
    ")\n",
    "data.head(10)"
   ]
  },
  {
   "cell_type": "markdown",
   "metadata": {},
   "source": [
    "Посчитаем статистическую значимость различия в среднем количестве заказов между группами"
   ]
  },
  {
   "cell_type": "code",
   "execution_count": 58,
   "metadata": {},
   "outputs": [],
   "source": [
    "ordersByUsersA = (\n",
    "    orders[orders['group'] == 'A']\n",
    "    .groupby('visitor_id', as_index=False)\n",
    "    .agg({'transaction_id': pd.Series.nunique})\n",
    ")\n",
    "ordersByUsersA.columns = ['user_id', 'orders']\n",
    "\n",
    "ordersByUsersB = (\n",
    "    orders[orders['group'] == 'B']\n",
    "    .groupby('visitor_id', as_index=False)\n",
    "    .agg({'transaction_id': pd.Series.nunique})\n",
    ")\n",
    "ordersByUsersB.columns = ['user_id', 'orders'] "
   ]
  },
  {
   "cell_type": "markdown",
   "metadata": {},
   "source": [
    "Создадим объект pd.Series нужной длины.\n",
    "\n",
    "Здесь же объявим переменные sampleA и sampleB, в которых пользователям из разных групп будет соответствовать количество заказов. Тем, кто ничего не заказал, будут соответствовать нули. Это нужно, чтобы подготовить выборки к проверке критерием Манна-Уитни."
   ]
  },
  {
   "cell_type": "code",
   "execution_count": 59,
   "metadata": {},
   "outputs": [],
   "source": [
    "pd.Series(0, index=np.arange(data['visitorsPerDateA'].sum() - len(ordersByUsersA['orders'])), name='orders')\n",
    "\n",
    "sampleA = pd.concat([ordersByUsersA['orders'],\\\n",
    "          pd.Series(0, index=np.arange(data['visitorsPerDateA']\\\n",
    "          .sum() - len(ordersByUsersA['orders'])), name='orders')],axis=0)\n",
    "\n",
    "sampleB = pd.concat([ordersByUsersB['orders'],\\\n",
    "          pd.Series(0, index=np.arange(data['visitorsPerDateB']\\\n",
    "          .sum() - len(ordersByUsersB['orders'])), name='orders')],axis=0)"
   ]
  },
  {
   "cell_type": "markdown",
   "metadata": {},
   "source": [
    "Применим критерий и отформатируем p-value, округлив его до трёх знаков после запятой.\n",
    "\n",
    "Напомним, что в sampleA сохранили выборку, где каждый элемент — число заказов определённого пользователя, в том числе ноль. Значит, число элементов sampleA — это количество пользователей, сумма всех элементов — количество заказов. \n",
    "\n",
    "Чтобы получить среднее число заказов на пользователя, поделим сумму заказов на число пользователей — найдём среднее в выборке sampleA методом mean(). Аналогично найдём среднее группы B: SampleB.mean()."
   ]
  },
  {
   "cell_type": "code",
   "execution_count": 60,
   "metadata": {},
   "outputs": [],
   "source": [
    "sampleA = pd.concat(\n",
    "    [\n",
    "        ordersByUsersA['orders'],\n",
    "        pd.Series(\n",
    "            0,\n",
    "            index=np.arange(\n",
    "                data['visitorsPerDateA'].sum() - len(ordersByUsersA['orders'])\n",
    "            ),\n",
    "            name='orders',\n",
    "        ),\n",
    "    ],\n",
    "    axis=0,\n",
    ")\n",
    "\n",
    "sampleB = pd.concat(\n",
    "    [\n",
    "        ordersByUsersB['orders'],\n",
    "        pd.Series(\n",
    "            0,\n",
    "            index=np.arange(\n",
    "                data['visitorsPerDateB'].sum() - len(ordersByUsersB['orders'])\n",
    "            ),\n",
    "            name='orders',\n",
    "        ),\n",
    "    ],\n",
    "    axis=0,\n",
    ")"
   ]
  },
  {
   "cell_type": "markdown",
   "metadata": {},
   "source": [
    "Выведем относительный прирост среднего числа заказов группы B: среднее число заказов группы B / среднее число заказов группы A - 1.  \n",
    "\n",
    "Округлим до трёх знаков после запятой."
   ]
  },
  {
   "cell_type": "code",
   "execution_count": 61,
   "metadata": {},
   "outputs": [
    {
     "name": "stdout",
     "output_type": "stream",
     "text": [
      "Cреднее количество заказов по сырым данным: \n",
      "p-value - значение статистической значимости в среднем количестве заказов между группами составляет: 0.011\n",
      "Среднее количество заказов в группе В на 15.980 % выше\n"
     ]
    }
   ],
   "source": [
    "print('Cреднее количество заказов по сырым данным: ')\n",
    "print('p-value - значение статистической значимости в среднем количестве заказов между группами составляет: ' \"{0:.3f}\"\\\n",
    "      .format(stats.mannwhitneyu(sampleA, sampleB)[1]))\n",
    "print('Среднее количество заказов в группе В на '\"{0:.3f} % выше\".format((sampleB.mean() / sampleA.mean() - 1)*100))"
   ]
  },
  {
   "cell_type": "markdown",
   "metadata": {},
   "source": [
    "Первое число — p-value = 0.011 меньше 0.05. Значит, нулевую гипотезу о том, что статистически значимых различий в среднем числе заказов между группами нет, отвергаем. Относительный выйгрыш группы B равен 15,98 % — второе число в выводе.\n",
    "\n",
    "Принимаем альтернативную гипотезу H1: Различия в среднем между группами есть."
   ]
  },
  {
   "cell_type": "markdown",
   "metadata": {},
   "source": [
    "#### Посчитаем статистическую значимость различий в среднем чеке заказа между группами по «сырым» данным. Сделаем выводы и предположения."
   ]
  },
  {
   "cell_type": "markdown",
   "metadata": {},
   "source": [
    "Посмотрим на средний чек заказов в обоих группах"
   ]
  },
  {
   "cell_type": "code",
   "execution_count": 62,
   "metadata": {},
   "outputs": [
    {
     "data": {
      "text/plain": [
       "7189.4358974358975"
      ]
     },
     "execution_count": 62,
     "metadata": {},
     "output_type": "execute_result"
    }
   ],
   "source": [
    "orders[orders['group']=='A']['revenue'].mean()"
   ]
  },
  {
   "cell_type": "code",
   "execution_count": 63,
   "metadata": {},
   "outputs": [
    {
     "data": {
      "text/plain": [
       "9249.94890510949"
      ]
     },
     "execution_count": 63,
     "metadata": {},
     "output_type": "execute_result"
    }
   ],
   "source": [
    "orders[orders['group']=='B']['revenue'].mean()"
   ]
  },
  {
   "cell_type": "markdown",
   "metadata": {},
   "source": [
    "Далее посчитаем статистическую значимость различий в среднем чеке заказа между группами по «сырым» данным"
   ]
  },
  {
   "cell_type": "markdown",
   "metadata": {},
   "source": [
    "Используем критерий Манна-Уитни и выдвинем следующие гипотезы:\n",
    "\n",
    "Н0: Средний чек группы А равен среднему чеку в группе В.\n",
    "\n",
    "Н1: Средний чек в группе А не равен среднему чеку в группе В."
   ]
  },
  {
   "cell_type": "code",
   "execution_count": 64,
   "metadata": {},
   "outputs": [
    {
     "name": "stdout",
     "output_type": "stream",
     "text": [
      "Средний чек по сырым данным:\n",
      "p-value - значение статистической значимости в среднем чеке между группами составляет: 0.829\n",
      "Средний чек в группе В на : 28.660 % выше\n"
     ]
    }
   ],
   "source": [
    "print('Средний чек по сырым данным:')\n",
    "print('p-value - значение статистической значимости в среднем чеке между группами составляет: '\"{0:.3f}\"\\\n",
    "                                     .format(stats.mannwhitneyu(orders[orders['group']=='A']['revenue'],\\\n",
    "                                      orders[orders['group']=='B']['revenue'])[1]))\n",
    "print('Средний чек в группе В на : '\"{0:.3f} % выше\".format((orders[orders['group']=='B']['revenue']\\\n",
    "               .mean()/orders[orders['group']=='A']['revenue'].mean()-1)*100)) "
   ]
  },
  {
   "cell_type": "markdown",
   "metadata": {},
   "source": [
    "**Выводы и предположения:** \n",
    "\n",
    "p-value - Значение статистической значимости составляет 0.829, что значительно выше установленного значения 0.05, таким образом можно сказать, что различии в среднем чеке между группами А и В нет и нулевую гипотезу нельзя отвергнуть. Наблюдаемое различие в 28.66 %. не является статистически значимым т.к. есть аномалии и это сырые данные"
   ]
  },
  {
   "cell_type": "markdown",
   "metadata": {},
   "source": [
    "#### Посчитаем статистическую значимость различий в среднем количестве заказов на посетителя между группами по «очищенным» данным. Сделаем выводы и предположения."
   ]
  },
  {
   "cell_type": "markdown",
   "metadata": {},
   "source": [
    "Примем за аномальных пользователей тех, кто совершил больше 2 заказов или совершил заказ дороже 53904 000 рублей. Сделаем срезы пользователей с числом заказов больше 2 — и пользователей, совершивших заказы дороже 53904. Объединим их в таблице abnormal_users. \n",
    "Узнаем, сколько всего аномальных пользователей атрибутом shape."
   ]
  },
  {
   "cell_type": "markdown",
   "metadata": {},
   "source": [
    "Зададим предельные кол-во заказов и сумму покупки для формирования списка аномальных пользователей"
   ]
  },
  {
   "cell_type": "code",
   "execution_count": 65,
   "metadata": {},
   "outputs": [],
   "source": [
    "limit_orders = 2\n",
    "limit_revenue = 53904"
   ]
  },
  {
   "cell_type": "code",
   "execution_count": 66,
   "metadata": {},
   "outputs": [
    {
     "name": "stdout",
     "output_type": "stream",
     "text": [
      "1099    148427295\n",
      "33      249864742\n",
      "58      611059232\n",
      "949     887908475\n",
      "744     888512513\n",
      "dtype: int64\n",
      "16\n"
     ]
    }
   ],
   "source": [
    "users_purchases = pd.concat(\n",
    "    [\n",
    "        ordersByUsersA[ordersByUsersA['orders'] > limit_orders]['user_id'],\n",
    "        ordersByUsersB[ordersByUsersB['orders'] > limit_orders]['user_id'],\n",
    "    ],\n",
    "    axis=0,\n",
    ")\n",
    "\n",
    "users_expensive = orders[orders['revenue'] > limit_revenue]['visitor_id']\n",
    "\n",
    "abnormal_users = (\n",
    "    pd.concat([users_purchases, users_expensive], axis=0)\n",
    "    .drop_duplicates()\n",
    "    .sort_values()\n",
    ")\n",
    "\n",
    "print(abnormal_users.head(5))\n",
    "print(abnormal_users.shape[0]) "
   ]
  },
  {
   "cell_type": "markdown",
   "metadata": {},
   "source": [
    "Всего 16 аномальных пользователей. \n",
    "\n",
    "Узнаем, как их действия повлияли на результаты теста. Посчитаем статистическую значимость различий в среднем количестве заказов между группами теста по очищенным данным. Сначала подготовим выборки количества заказов по пользователям по группам теста:"
   ]
  },
  {
   "cell_type": "code",
   "execution_count": 67,
   "metadata": {},
   "outputs": [],
   "source": [
    "sampleAFiltered = pd.concat(\n",
    "    [\n",
    "        ordersByUsersA[\n",
    "            np.logical_not(ordersByUsersA['user_id'].isin(abnormal_users))\n",
    "        ]['orders'],\n",
    "        pd.Series(\n",
    "            0,\n",
    "            index=np.arange(\n",
    "                data['visitorsPerDateA'].sum() - len(ordersByUsersA['orders'])\n",
    "            ),\n",
    "            name='orders',\n",
    "        ),\n",
    "    ],\n",
    "    axis=0,\n",
    ")\n",
    "\n",
    "sampleBFiltered = pd.concat(\n",
    "    [\n",
    "        ordersByUsersB[\n",
    "            np.logical_not(ordersByUsersB['user_id'].isin(abnormal_users))\n",
    "        ]['orders'],\n",
    "        pd.Series(\n",
    "            0,\n",
    "            index=np.arange(\n",
    "                data['visitorsPerDateB'].sum() - len(ordersByUsersB['orders'])\n",
    "            ),\n",
    "            name='orders',\n",
    "        ),\n",
    "    ],\n",
    "    axis=0,\n",
    ")"
   ]
  },
  {
   "cell_type": "markdown",
   "metadata": {},
   "source": [
    "Используем критерий Манна-Уитни и выдвинем следующие гипотезы:\n",
    "\n",
    "Н0: Среднее количество заказов между группами теста по очищенным данным равно  .\n",
    "\n",
    "Н1: Среднее количество заказов между группами теста по очищенным данным не равно."
   ]
  },
  {
   "cell_type": "code",
   "execution_count": 68,
   "metadata": {},
   "outputs": [
    {
     "name": "stdout",
     "output_type": "stream",
     "text": [
      "Cреднее кол-во заказов по очищенным данным: \n",
      "p-value - значение статистической значимости в среднем количестве заказов между группами составляет: 0.007\n",
      "Среднее количество заказов в группе В на 18.921 % выше\n"
     ]
    }
   ],
   "source": [
    "print('Cреднее кол-во заказов по очищенным данным: ')\n",
    "print('p-value - значение статистической значимости в среднем количестве заказов между группами составляет: ''{0:.3f}'\\\n",
    "      .format(stats.mannwhitneyu(sampleAFiltered, sampleBFiltered)[1]))\n",
    "print('Среднее количество заказов в группе В на ''{0:.3f} % выше'\\\n",
    "      .format((sampleBFiltered.mean()/sampleAFiltered.mean()-1)*100)) "
   ]
  },
  {
   "cell_type": "markdown",
   "metadata": {},
   "source": [
    "Первое число — p-value = 0.007 меньше 0.05. Значит, нулевую гипотезу о том, что статистически значимых различий в среднем числе заказов между группами нет, отвергаем. Относительный выйгрыш группы B равен 18.92% — второе число в выводе.\n",
    "\n",
    "Принимаем альтернативную гипотезу H1: Различия в среднем между группами есть по очищенным данным."
   ]
  },
  {
   "cell_type": "markdown",
   "metadata": {},
   "source": [
    "#### Посчитаем статистическую значимость различий в среднем чеке заказа между группами по «очищенным» данным. Сделаем выводы и предположения."
   ]
  },
  {
   "cell_type": "code",
   "execution_count": 69,
   "metadata": {},
   "outputs": [],
   "source": [
    "orders_filtered = orders.query('revenue <= 53904')"
   ]
  },
  {
   "cell_type": "code",
   "execution_count": 70,
   "metadata": {},
   "outputs": [
    {
     "data": {
      "text/plain": [
       "6504.548596112311"
      ]
     },
     "execution_count": 70,
     "metadata": {},
     "output_type": "execute_result"
    }
   ],
   "source": [
    "orders_filtered[orders_filtered['group']=='A']['revenue'].mean()"
   ]
  },
  {
   "cell_type": "code",
   "execution_count": 71,
   "metadata": {},
   "outputs": [
    {
     "data": {
      "text/plain": [
       "6298.827205882353"
      ]
     },
     "execution_count": 71,
     "metadata": {},
     "output_type": "execute_result"
    }
   ],
   "source": [
    "orders_filtered[orders_filtered['group']=='B']['revenue'].mean()"
   ]
  },
  {
   "cell_type": "markdown",
   "metadata": {},
   "source": [
    "Результаты по среднему количеству заказов практически не изменились. Произошло ли что-нибудь с результатами по среднему чеку?"
   ]
  },
  {
   "cell_type": "markdown",
   "metadata": {},
   "source": [
    "Используем критерий Манна-Уитни и выдвинем следующие гипотезы:\n",
    "\n",
    "Н0: Средний чек в группе А равен среднему чеку в группе В.\n",
    "\n",
    "Н1: Средний чек в группе А не равен среднему чеку в группе В."
   ]
  },
  {
   "cell_type": "code",
   "execution_count": 72,
   "metadata": {},
   "outputs": [
    {
     "name": "stdout",
     "output_type": "stream",
     "text": [
      "Cредний чек по очищенным данным: \n",
      "p-value - значение статистической значимости в среднем чеке между группами составляет: 0.788\n",
      "Средний чек в группе В на -3.234 % ниже\n"
     ]
    }
   ],
   "source": [
    "print('Cредний чек по очищенным данным: ')\n",
    "print('p-value - значение статистической значимости в среднем чеке между группами составляет: '\n",
    "    '{0:.3f}'.format(\n",
    "        stats.mannwhitneyu(\n",
    "            orders[\n",
    "                np.logical_and(\n",
    "                    orders['group'] == 'A',\n",
    "                    np.logical_not(orders['visitor_id'].isin(abnormal_users)),\n",
    "                )\n",
    "            ]['revenue'],\n",
    "            orders[\n",
    "                np.logical_and(\n",
    "                    orders['group'] == 'B',\n",
    "                    np.logical_not(orders['visitor_id'].isin(abnormal_users)),)]['revenue'],)[1]))\n",
    "\n",
    "print('Средний чек в группе В на '\n",
    "    \"{0:.3f} % ниже\".format((\n",
    "        orders[\n",
    "            np.logical_and(\n",
    "                orders['group'] == 'B',\n",
    "                np.logical_not(orders['visitor_id'].isin(abnormal_users)),\n",
    "            )\n",
    "        ]['revenue'].mean()\n",
    "        / orders[\n",
    "            np.logical_and(\n",
    "                orders['group'] == 'A',\n",
    "                np.logical_not(orders['visitor_id'].isin(abnormal_users)),\n",
    "            )]['revenue'].mean()- 1)*100))"
   ]
  },
  {
   "cell_type": "markdown",
   "metadata": {},
   "source": [
    "p-value - Значение статистической значимости составляет 0.788, что значительно выше установленного значения 0.05, таким образом можно сказать, что различий в среднем чеке между группами А и В нет и нулевую гипотезу нельзя отвергнуть. Наблюдаемое различие в -3.234 %. не является статистически значимым."
   ]
  },
  {
   "cell_type": "markdown",
   "metadata": {},
   "source": [
    "**Выводы и предположения:**\n",
    "\n",
    "Подгрузим все выводы:\n",
    "\n",
    "среднее количество заказов на посетителя между группами по «сырым» данным\n",
    "\n",
    "- p-value - значение статистической значимости в среднем количестве заказов между группами составляет: 0.011\n",
    "- Среднее количество заказов в группе В на 15.980 % выше\n",
    "- Принимаем альтернативную гипотезу H1: Различия в среднем между группами есть.\n",
    "\n",
    "среднее количество заказов на посетителя между группами по «очищенным» данным\n",
    "\n",
    "- p-value - значение статистической значимости в среднем количестве заказов между группами составляет: 0.007\n",
    "- Среднее количество заказов в группе В на 18.921 % выше\n",
    "- Принимаем альтернативную гипотезу H1: Различия в среднем между группами есть.\n",
    "\n",
    "средний чек между группами по «сырым» данным\n",
    "\n",
    "- p-value - значение статистической значимости в среднем чеке между группами составляет: 0.829\n",
    "- Средний чек в группе В на : 28.660 % выше\n",
    "- Принимаем нулевую гипотезу H0: Различия в среднем чеке между группами нет.\n",
    "\n",
    "средний чек между группами по «очищенным» данным\n",
    "\n",
    "- p-value - значение статистической значимости в среднем чеке между группами составляет: 0.788\n",
    "- Средний чек в группе В на -3.234 % ниже\n",
    "- Принимаем нулевую гипотезу H0: Различия в среднем чеке между группами нет.\n",
    "\n",
    "Исходя из обнаруженных фактов, тест следует остановить и признать его успешным, потому как при имеющихся данных группа B лучше группы A."
   ]
  },
  {
   "cell_type": "markdown",
   "metadata": {},
   "source": [
    "### Вывод исследования\n",
    "\n",
    "**Какие выводы по тесту можем сделать?**\n",
    "\n",
    "В ходе анализа результатов А/В-тестирования были получены следующие результаты:\n",
    "\n",
    "\n",
    "- Выборка данных имеет корректный размер, проблему подглядывания в результате сравнения групп во время проведения теста мы исключили! \n",
    "- Кумулятивные метрики по выручке, среднему чеку и среднему количеству заказов почти все время лидировали в группе B. \n",
    "\n",
    "- У нас на некоторое время возникли сомнения из-за резких колебаний на графике кумулятивного среднего чека в группе B до очистки данных от аномальных пользователей. Наши сомнения подтвердились на этот счет, т.к. после очистки разница между средними чеками стала минимальна, но это не даёт нам повода сомневаться в проведении теста и его результатах. \n",
    "\n",
    "- Благодаря избавлению от аномальных значений удалось выяснить, что средний чек в группе В на 2% ниже чем в группе А. Данный показатель на \"очищенных\" данных сильно отличается от значения полученного на \"сырых\" данных. В данном случае избавление от аномально высоких значений сильно повлияло на итоговый результат.\n",
    "\n",
    "- До и после очистки данных, показатель среднего количества заказов в группе B больше показателя в группе A - сначала на 15.98% до и на 18.92% после очистки данных. Данная разница показателей среднего количества заказов между группами и до и после очистки данных является **статистически значимой**\n",
    "- также можно выделить что **статистически значимой разницы** по среднему чеку нет (чек не увеличился, но и не уменьшился) то при выросшем количестве заказов с сохранившимся средним чеком выручка будет так-же расти! Что пользволяет нам сделать вывод о том, что мы можем остановить наш A/B тест и зафиксировать победу группы B!\n",
    "\n",
    "**Таким образом, резюмируя всю вышеизложенную информацию, я принимаю решение об остановке А/В-теста и фиксирую победу группы В**\n",
    "\n",
    "\n",
    "**Выводы по имеющимся гипотезам:**\n",
    "\n",
    "Приоритизация гипотез при применении ICE получилась следующая первые три места по приоритетности заняли такие гипотезы как:\n",
    "\n",
    "- Запустить акцию, дающую скидку на товар в день рождения\n",
    "- Добавить два новых канала привлечения трафика, что позволит привлекать на 30% больше пользователей\n",
    "- Добавить форму подписки на все основные страницы, чтобы собрать базу клиентов для e-mail рассылок\n",
    "\n",
    "Приоритизация гипотез при применении RICE получилась следующая первые три места (3 место заняли две гипотезы) по приоритетности заняли такие гипотезы как:\n",
    "\n",
    "- Добавить форму подписки на все основные страницы, чтобы собрать базу клиентов для e-mail рассылок\n",
    "- Добавить блоки рекомендаций товаров на сайт интернет-магазина, чтобы повысить конверсию и средний чек заказа\n",
    "- Добавить два новых канала привлечения трафика, что позволит привлекать на 30% больше пользователей\n",
    "- Показать на главной странице баннеры с актуальными акциями и распродажами, чтобы увеличить конверсию\n",
    "\n",
    "**Выводы по количеству заказов и стоимости заказов:**\n",
    "\n",
    "- Большинство пользователей совершает 1 покупку за весь период теста. Хотя также присутствует небольшое количество пользователей которые совершают 2 и более покупок, но их количество значительно меньше тех, кто совершает 1 покупку поэтому их можно считать аномальными выбросами.\n",
    "\n",
    "- Большая часть заказов имеет стоимость менее 20000 рублей. Значения которые превышают отметку 30000 рублей встречаются крайне редко. Также имеются выбросы превышающие 100000 рублей.\n",
    "\n",
    "**Рекомендации интернет-магазину:**\n",
    "\n",
    "- Можно прислушаться к выдвинутым гипотезам при применении RICE и ICE.\n",
    "- Также подходить к А/B тестированию более поготовленно. Заранее проверять сырые данные на аномалии, на выбросы. И в процессе ориентироваться на достоверные данные. Так как эта система тестирования достаточно дорогая в использовании.\n",
    "- Всегда совершенствовать своё оборудование, свой лендинг сайта. Всегда поддерживать акутальную информацию о наличии необходимых пользователю товарах и услугах.\n",
    "- Всегда поддерживать обратную свзяь с покупателем, чтобы он всегда был уверен в надежности продавца и качестве товаров и услуг получаемых в интернет-магазине."
   ]
  },
  {
   "cell_type": "code",
   "execution_count": null,
   "metadata": {},
   "outputs": [],
   "source": []
  }
 ],
 "metadata": {
  "ExecuteTimeLog": [
   {
    "duration": 1561,
    "start_time": "2023-08-30T06:46:46.905Z"
   },
   {
    "duration": 300,
    "start_time": "2023-08-30T06:46:48.469Z"
   },
   {
    "duration": 13,
    "start_time": "2023-08-30T06:46:48.771Z"
   },
   {
    "duration": 11,
    "start_time": "2023-08-30T06:46:48.786Z"
   },
   {
    "duration": 34,
    "start_time": "2023-08-30T06:46:48.798Z"
   },
   {
    "duration": 11,
    "start_time": "2023-08-30T06:46:48.834Z"
   },
   {
    "duration": 21,
    "start_time": "2023-08-30T06:46:48.847Z"
   },
   {
    "duration": 29,
    "start_time": "2023-08-30T06:46:48.870Z"
   },
   {
    "duration": 24,
    "start_time": "2023-08-30T06:46:48.903Z"
   },
   {
    "duration": 9,
    "start_time": "2023-08-30T06:46:48.932Z"
   },
   {
    "duration": 27,
    "start_time": "2023-08-30T06:46:48.942Z"
   },
   {
    "duration": 23,
    "start_time": "2023-08-30T06:46:48.971Z"
   },
   {
    "duration": 77,
    "start_time": "2023-08-30T06:46:48.995Z"
   },
   {
    "duration": 22,
    "start_time": "2023-08-30T06:46:49.074Z"
   },
   {
    "duration": 17,
    "start_time": "2023-08-30T06:46:49.098Z"
   },
   {
    "duration": 12,
    "start_time": "2023-08-30T06:46:49.123Z"
   },
   {
    "duration": 10,
    "start_time": "2023-08-30T06:46:49.136Z"
   },
   {
    "duration": 12,
    "start_time": "2023-08-30T06:46:49.147Z"
   },
   {
    "duration": 7,
    "start_time": "2023-08-30T06:46:49.161Z"
   },
   {
    "duration": 17,
    "start_time": "2023-08-30T06:46:49.169Z"
   },
   {
    "duration": 11,
    "start_time": "2023-08-30T06:46:49.187Z"
   },
   {
    "duration": 22,
    "start_time": "2023-08-30T06:46:49.199Z"
   },
   {
    "duration": 13,
    "start_time": "2023-08-30T06:46:49.229Z"
   },
   {
    "duration": 307,
    "start_time": "2023-08-30T06:46:49.244Z"
   },
   {
    "duration": 14,
    "start_time": "2023-08-30T06:46:49.553Z"
   },
   {
    "duration": 303,
    "start_time": "2023-08-30T06:46:49.568Z"
   },
   {
    "duration": 31,
    "start_time": "2023-08-30T06:46:49.872Z"
   },
   {
    "duration": 21,
    "start_time": "2023-08-30T06:46:49.914Z"
   },
   {
    "duration": 14,
    "start_time": "2023-08-30T06:46:49.937Z"
   },
   {
    "duration": 20,
    "start_time": "2023-08-30T06:46:49.953Z"
   },
   {
    "duration": 14,
    "start_time": "2023-08-30T06:46:49.974Z"
   },
   {
    "duration": 6,
    "start_time": "2023-08-30T06:46:50.009Z"
   },
   {
    "duration": 18,
    "start_time": "2023-08-30T06:46:50.017Z"
   },
   {
    "duration": 29,
    "start_time": "2023-08-30T06:46:50.037Z"
   },
   {
    "duration": 455,
    "start_time": "2023-08-30T06:46:50.069Z"
   },
   {
    "duration": 365,
    "start_time": "2023-08-30T06:46:50.526Z"
   },
   {
    "duration": 414,
    "start_time": "2023-08-30T06:46:50.893Z"
   },
   {
    "duration": 273,
    "start_time": "2023-08-30T06:46:51.313Z"
   },
   {
    "duration": 383,
    "start_time": "2023-08-30T06:46:51.588Z"
   },
   {
    "duration": 7,
    "start_time": "2023-08-30T06:46:51.973Z"
   },
   {
    "duration": 49,
    "start_time": "2023-08-30T06:46:51.982Z"
   },
   {
    "duration": 257,
    "start_time": "2023-08-30T06:46:52.033Z"
   },
   {
    "duration": 35,
    "start_time": "2023-08-30T06:46:52.292Z"
   },
   {
    "duration": 183,
    "start_time": "2023-08-30T06:46:52.329Z"
   },
   {
    "duration": 8,
    "start_time": "2023-08-30T06:46:52.514Z"
   },
   {
    "duration": 266,
    "start_time": "2023-08-30T06:46:52.524Z"
   },
   {
    "duration": 6,
    "start_time": "2023-08-30T06:46:52.793Z"
   },
   {
    "duration": 259,
    "start_time": "2023-08-30T06:46:52.801Z"
   },
   {
    "duration": 179,
    "start_time": "2023-08-30T06:46:53.062Z"
   },
   {
    "duration": 7,
    "start_time": "2023-08-30T06:46:53.243Z"
   },
   {
    "duration": 9,
    "start_time": "2023-08-30T06:46:53.252Z"
   },
   {
    "duration": 42,
    "start_time": "2023-08-30T06:46:53.262Z"
   },
   {
    "duration": 14,
    "start_time": "2023-08-30T06:46:53.306Z"
   },
   {
    "duration": 8,
    "start_time": "2023-08-30T06:46:53.322Z"
   },
   {
    "duration": 17,
    "start_time": "2023-08-30T06:46:53.332Z"
   },
   {
    "duration": 10,
    "start_time": "2023-08-30T06:46:53.351Z"
   },
   {
    "duration": 11,
    "start_time": "2023-08-30T06:46:53.363Z"
   },
   {
    "duration": 46,
    "start_time": "2023-08-30T06:46:53.376Z"
   },
   {
    "duration": 7,
    "start_time": "2023-08-30T06:46:53.424Z"
   },
   {
    "duration": 21,
    "start_time": "2023-08-30T06:46:53.432Z"
   },
   {
    "duration": 7,
    "start_time": "2023-08-30T06:46:53.455Z"
   },
   {
    "duration": 28,
    "start_time": "2023-08-30T06:46:53.464Z"
   },
   {
    "duration": 167,
    "start_time": "2023-08-30T06:55:09.079Z"
   },
   {
    "duration": 1451,
    "start_time": "2023-08-30T16:54:34.474Z"
   },
   {
    "duration": 193,
    "start_time": "2023-08-30T16:54:35.927Z"
   },
   {
    "duration": 3,
    "start_time": "2023-08-30T16:54:36.122Z"
   },
   {
    "duration": 14,
    "start_time": "2023-08-30T16:54:36.127Z"
   },
   {
    "duration": 17,
    "start_time": "2023-08-30T16:54:36.143Z"
   },
   {
    "duration": 15,
    "start_time": "2023-08-30T16:54:36.162Z"
   },
   {
    "duration": 16,
    "start_time": "2023-08-30T16:54:36.179Z"
   },
   {
    "duration": 17,
    "start_time": "2023-08-30T16:54:36.196Z"
   },
   {
    "duration": 20,
    "start_time": "2023-08-30T16:54:36.214Z"
   },
   {
    "duration": 17,
    "start_time": "2023-08-30T16:54:36.236Z"
   },
   {
    "duration": 21,
    "start_time": "2023-08-30T16:54:36.255Z"
   },
   {
    "duration": 26,
    "start_time": "2023-08-30T16:54:36.278Z"
   },
   {
    "duration": 27,
    "start_time": "2023-08-30T16:54:36.306Z"
   },
   {
    "duration": 25,
    "start_time": "2023-08-30T16:54:36.334Z"
   },
   {
    "duration": 9,
    "start_time": "2023-08-30T16:54:36.361Z"
   },
   {
    "duration": 44,
    "start_time": "2023-08-30T16:54:36.372Z"
   },
   {
    "duration": 15,
    "start_time": "2023-08-30T16:54:36.417Z"
   },
   {
    "duration": 12,
    "start_time": "2023-08-30T16:54:36.433Z"
   },
   {
    "duration": 11,
    "start_time": "2023-08-30T16:54:36.447Z"
   },
   {
    "duration": 7,
    "start_time": "2023-08-30T16:54:36.459Z"
   },
   {
    "duration": 9,
    "start_time": "2023-08-30T16:54:36.468Z"
   },
   {
    "duration": 15,
    "start_time": "2023-08-30T16:54:36.478Z"
   },
   {
    "duration": 10,
    "start_time": "2023-08-30T16:54:36.494Z"
   },
   {
    "duration": 12,
    "start_time": "2023-08-30T16:54:36.505Z"
   },
   {
    "duration": 8,
    "start_time": "2023-08-30T16:54:36.519Z"
   },
   {
    "duration": 3,
    "start_time": "2023-08-30T16:54:36.529Z"
   },
   {
    "duration": 26,
    "start_time": "2023-08-30T16:54:36.534Z"
   },
   {
    "duration": 10,
    "start_time": "2023-08-30T16:54:36.565Z"
   },
   {
    "duration": 23,
    "start_time": "2023-08-30T16:54:36.576Z"
   },
   {
    "duration": 34,
    "start_time": "2023-08-30T16:54:36.600Z"
   },
   {
    "duration": 267,
    "start_time": "2023-08-30T16:54:36.636Z"
   },
   {
    "duration": 243,
    "start_time": "2023-08-30T16:54:36.904Z"
   },
   {
    "duration": 9,
    "start_time": "2023-08-30T16:54:37.148Z"
   },
   {
    "duration": 57,
    "start_time": "2023-08-30T16:54:37.158Z"
   },
   {
    "duration": 20,
    "start_time": "2023-08-30T16:54:37.217Z"
   },
   {
    "duration": 37,
    "start_time": "2023-08-30T16:54:37.239Z"
   },
   {
    "duration": 16,
    "start_time": "2023-08-30T16:54:37.278Z"
   },
   {
    "duration": 13,
    "start_time": "2023-08-30T16:54:37.296Z"
   },
   {
    "duration": 15,
    "start_time": "2023-08-30T16:54:37.311Z"
   },
   {
    "duration": 11,
    "start_time": "2023-08-30T16:54:37.328Z"
   },
   {
    "duration": 26,
    "start_time": "2023-08-30T16:54:37.341Z"
   },
   {
    "duration": 27,
    "start_time": "2023-08-30T16:54:37.369Z"
   },
   {
    "duration": 19,
    "start_time": "2023-08-30T16:54:37.398Z"
   },
   {
    "duration": 290,
    "start_time": "2023-08-30T16:54:37.418Z"
   },
   {
    "duration": 245,
    "start_time": "2023-08-30T16:54:37.710Z"
   },
   {
    "duration": 362,
    "start_time": "2023-08-30T16:54:37.957Z"
   },
   {
    "duration": 221,
    "start_time": "2023-08-30T16:54:38.320Z"
   },
   {
    "duration": 425,
    "start_time": "2023-08-30T16:54:38.542Z"
   },
   {
    "duration": 7,
    "start_time": "2023-08-30T16:54:38.969Z"
   },
   {
    "duration": 20,
    "start_time": "2023-08-30T16:54:38.978Z"
   },
   {
    "duration": 175,
    "start_time": "2023-08-30T16:54:39.000Z"
   },
   {
    "duration": 5,
    "start_time": "2023-08-30T16:54:39.177Z"
   },
   {
    "duration": 175,
    "start_time": "2023-08-30T16:54:39.184Z"
   },
   {
    "duration": 10,
    "start_time": "2023-08-30T16:54:39.366Z"
   },
   {
    "duration": 179,
    "start_time": "2023-08-30T16:54:39.378Z"
   },
   {
    "duration": 5,
    "start_time": "2023-08-30T16:54:39.559Z"
   },
   {
    "duration": 234,
    "start_time": "2023-08-30T16:54:39.566Z"
   },
   {
    "duration": 133,
    "start_time": "2023-08-30T16:54:39.802Z"
   },
   {
    "duration": 8,
    "start_time": "2023-08-30T16:54:39.937Z"
   },
   {
    "duration": 33,
    "start_time": "2023-08-30T16:54:39.946Z"
   },
   {
    "duration": 94,
    "start_time": "2023-08-30T16:54:39.981Z"
   },
   {
    "duration": 12,
    "start_time": "2023-08-30T16:54:40.077Z"
   },
   {
    "duration": 55,
    "start_time": "2023-08-30T16:54:40.090Z"
   },
   {
    "duration": 39,
    "start_time": "2023-08-30T16:54:40.148Z"
   },
   {
    "duration": 23,
    "start_time": "2023-08-30T16:54:40.189Z"
   },
   {
    "duration": 49,
    "start_time": "2023-08-30T16:54:40.214Z"
   },
   {
    "duration": 33,
    "start_time": "2023-08-30T16:54:40.265Z"
   },
   {
    "duration": 32,
    "start_time": "2023-08-30T16:54:40.300Z"
   },
   {
    "duration": 5,
    "start_time": "2023-08-30T16:54:40.333Z"
   },
   {
    "duration": 8,
    "start_time": "2023-08-30T16:54:40.340Z"
   },
   {
    "duration": 9,
    "start_time": "2023-08-30T16:54:40.350Z"
   },
   {
    "duration": 14,
    "start_time": "2023-08-30T16:54:40.361Z"
   }
  ],
  "kernelspec": {
   "display_name": "Python 3 (ipykernel)",
   "language": "python",
   "name": "python3"
  },
  "language_info": {
   "codemirror_mode": {
    "name": "ipython",
    "version": 3
   },
   "file_extension": ".py",
   "mimetype": "text/x-python",
   "name": "python",
   "nbconvert_exporter": "python",
   "pygments_lexer": "ipython3",
   "version": "3.9.13"
  },
  "toc": {
   "base_numbering": 1,
   "nav_menu": {},
   "number_sections": true,
   "sideBar": true,
   "skip_h1_title": true,
   "title_cell": "Оглавление",
   "title_sidebar": "Оглавление",
   "toc_cell": true,
   "toc_position": {
    "height": "calc(100% - 180px)",
    "left": "10px",
    "top": "150px",
    "width": "307.2px"
   },
   "toc_section_display": false,
   "toc_window_display": false
  }
 },
 "nbformat": 4,
 "nbformat_minor": 2
}
